{
 "cells": [
  {
   "cell_type": "code",
   "execution_count": 1,
   "id": "c9a31b0e-c417-414d-bcff-a1b5958bc785",
   "metadata": {},
   "outputs": [
    {
     "name": "stdout",
     "output_type": "stream",
     "text": [
      "Postfix: ab+c*\n",
      "Infix: ((a+b)*c)\n"
     ]
    }
   ],
   "source": [
    "#1. Convert a Postfix Expression to Infix\n",
    "def postfix_to_infix(expression):\n",
    "    stack = []\n",
    "    for char in expression:\n",
    "        if char.isalnum():  # If the character is an operand\n",
    "            stack.append(char)\n",
    "        else:  # Operator\n",
    "            op2 = stack.pop()\n",
    "            op1 = stack.pop()\n",
    "            stack.append(f\"({op1}{char}{op2})\")\n",
    "    return stack[-1]\n",
    "\n",
    "postfix = \"ab+c*\"\n",
    "print(\"Postfix:\", postfix)\n",
    "print(\"Infix:\", postfix_to_infix(postfix))\n"
   ]
  },
  {
   "cell_type": "code",
   "execution_count": 2,
   "id": "7efcb450-573e-4443-a263-76fc95622028",
   "metadata": {},
   "outputs": [
    {
     "name": "stdout",
     "output_type": "stream",
     "text": [
      "Postfix: ab+c*\n",
      "Prefix: *+abc\n"
     ]
    }
   ],
   "source": [
    "#2. Convert a Postfix Expression to Prefix\n",
    "def postfix_to_prefix(expression):\n",
    "    stack = []\n",
    "    for char in expression:\n",
    "        if char.isalnum():  \n",
    "            stack.append(char)\n",
    "        else:  # Operator\n",
    "            op2 = stack.pop()\n",
    "            op1 = stack.pop()\n",
    "            stack.append(f\"{char}{op1}{op2}\")\n",
    "    return stack[-1]\n",
    "\n",
    "\n",
    "postfix = \"ab+c*\"\n",
    "print(\"Postfix:\", postfix)\n",
    "print(\"Prefix:\", postfix_to_prefix(postfix))\n"
   ]
  },
  {
   "cell_type": "code",
   "execution_count": 3,
   "id": "b8c1c263-dc56-4632-a096-a05f1292099f",
   "metadata": {},
   "outputs": [
    {
     "name": "stdout",
     "output_type": "stream",
     "text": [
      "Prefix: *+abc\n",
      "Postfix: ab+c*\n"
     ]
    }
   ],
   "source": [
    "#3. Convert a Prefix Expression to Postfix\n",
    "def prefix_to_postfix(expression):\n",
    "    stack = []\n",
    "    for char in reversed(expression):\n",
    "        if char.isalnum(): \n",
    "            stack.append(char)\n",
    "        else:  # Operator\n",
    "            op1 = stack.pop()\n",
    "            op2 = stack.pop()\n",
    "            stack.append(f\"{op1}{op2}{char}\")\n",
    "    return stack[-1]\n",
    "\n",
    "\n",
    "prefix = \"*+abc\"\n",
    "print(\"Prefix:\", prefix)\n",
    "print(\"Postfix:\", prefix_to_postfix(prefix))\n"
   ]
  },
  {
   "cell_type": "code",
   "execution_count": 4,
   "id": "cefaae79-78c3-419e-9b56-1eb69a6f13e5",
   "metadata": {},
   "outputs": [
    {
     "name": "stdout",
     "output_type": "stream",
     "text": [
      "Stack 0: [1, 2, None, None]\n",
      "Stack 1: [10, None, None, None]\n",
      "Stack 2: [20, None, None, None]\n",
      "Popped from Stack 0: 2\n",
      "Stack 0: [1, None, None, None]\n",
      "Stack 1: [10, None, None, None]\n",
      "Stack 2: [20, None, None, None]\n"
     ]
    }
   ],
   "source": [
    "#4. Implement Multiple Stacks Using a Single List\n",
    "class MultipleStacks:\n",
    "    def __init__(self, total_size, num_stacks):\n",
    "        self.arr = [None] * total_size\n",
    "        self.tops = [-1] * num_stacks\n",
    "        self.stack_size = total_size // num_stacks\n",
    "        self.num_stacks = num_stacks\n",
    "\n",
    "    def push(self, stack_num, value):\n",
    "        top_index = self.tops[stack_num] + 1\n",
    "        if top_index < self.stack_size:\n",
    "            self.arr[stack_num * self.stack_size + top_index] = value\n",
    "            self.tops[stack_num] += 1\n",
    "        else:\n",
    "            print(f\"Stack {stack_num} is full!\")\n",
    "\n",
    "    def pop(self, stack_num):\n",
    "        if self.tops[stack_num] == -1:\n",
    "            print(f\"Stack {stack_num} is empty!\")\n",
    "            return None\n",
    "        top_index = self.tops[stack_num]\n",
    "        value = self.arr[stack_num * self.stack_size + top_index]\n",
    "        self.arr[stack_num * self.stack_size + top_index] = None\n",
    "        self.tops[stack_num] -= 1\n",
    "        return value\n",
    "\n",
    "    def display(self):\n",
    "        for i in range(self.num_stacks):\n",
    "            start = i * self.stack_size\n",
    "            end = start + self.stack_size\n",
    "            print(f\"Stack {i}: {self.arr[start:end]}\")\n",
    "\n",
    "stacks = MultipleStacks(12, 3)\n",
    "stacks.push(0, 1)\n",
    "stacks.push(0, 2)\n",
    "stacks.push(1, 10)\n",
    "stacks.push(2, 20)\n",
    "stacks.display()\n",
    "print(\"Popped from Stack 0:\", stacks.pop(0))\n",
    "stacks.display()\n"
   ]
  },
  {
   "cell_type": "code",
   "execution_count": null,
   "id": "543b579f-78de-4760-9d22-990a2f8a31ea",
   "metadata": {},
   "outputs": [],
   "source": []
  }
 ],
 "metadata": {
  "kernelspec": {
   "display_name": "Python 3 (ipykernel)",
   "language": "python",
   "name": "python3"
  },
  "language_info": {
   "codemirror_mode": {
    "name": "ipython",
    "version": 3
   },
   "file_extension": ".py",
   "mimetype": "text/x-python",
   "name": "python",
   "nbconvert_exporter": "python",
   "pygments_lexer": "ipython3",
   "version": "3.12.4"
  }
 },
 "nbformat": 4,
 "nbformat_minor": 5
}
