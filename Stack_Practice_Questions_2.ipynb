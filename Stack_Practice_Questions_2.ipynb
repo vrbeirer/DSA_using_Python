{
 "cells": [
  {
   "cell_type": "code",
   "execution_count": 1,
   "id": "2c169b96-bc2e-49e2-816f-299da80972ff",
   "metadata": {},
   "outputs": [
    {
     "name": "stdout",
     "output_type": "stream",
     "text": [
      "Mismatched position: 8\n"
     ]
    }
   ],
   "source": [
    "#1. Parentheses Positioning Error\n",
    "def find_mismatch_position(s):\n",
    "    stack = []\n",
    "    for i, char in enumerate(s):\n",
    "        if char == '(':\n",
    "            stack.append(i) \n",
    "        elif char == ')':\n",
    "            if not stack:\n",
    "                return i  \n",
    "            stack.pop()\n",
    "    return stack[0] if stack else -1\n",
    "string = \"((())())(()\"\n",
    "print(\"Mismatched position:\", find_mismatch_position(string))\n"
   ]
  },
  {
   "cell_type": "code",
   "execution_count": 2,
   "id": "f22eaed4-4668-40dc-8846-9237ff208b25",
   "metadata": {},
   "outputs": [
    {
     "name": "stdout",
     "output_type": "stream",
     "text": [
      "Balanced positions: [(2, 3), (1, 4), (5, 6), (0, 7), (9, 10)]\n"
     ]
    }
   ],
   "source": [
    "#2. Parentheses in a Long String\n",
    "def balanced_parentheses_positions(s):\n",
    "    stack = []\n",
    "    balanced_positions = []\n",
    "    for i, char in enumerate(s):\n",
    "        if char == '(':\n",
    "            stack.append(i)\n",
    "        elif char == ')':\n",
    "            if stack:\n",
    "                balanced_positions.append((stack.pop(), i))\n",
    "    return balanced_positions\n",
    "\n",
    "\n",
    "string = \"((())())(()\"\n",
    "print(\"Balanced positions:\", balanced_parentheses_positions(string))\n"
   ]
  },
  {
   "cell_type": "code",
   "execution_count": 3,
   "id": "2051a8aa-9ae6-40da-8e3f-134d405f2ed3",
   "metadata": {},
   "outputs": [
    {
     "name": "stdout",
     "output_type": "stream",
     "text": [
      "Minimum parentheses to add: 1\n"
     ]
    }
   ],
   "source": [
    "#3. Minimum Number of Parentheses to Add\n",
    "def min_parentheses_to_add(s):\n",
    "    open_needed = 0\n",
    "    close_needed = 0\n",
    "    for char in s:\n",
    "        if char == '(':\n",
    "            close_needed += 1\n",
    "        elif char == ')':\n",
    "            if close_needed > 0:\n",
    "                close_needed -= 1\n",
    "            else:\n",
    "                open_needed += 1\n",
    "    return open_needed + close_needed\n",
    "\n",
    "string = \"((())())(()\"\n",
    "print(\"Minimum parentheses to add:\", min_parentheses_to_add(string))\n"
   ]
  },
  {
   "cell_type": "code",
   "execution_count": 4,
   "id": "d5ea6750-f5ba-404c-b9d2-df125e0f5314",
   "metadata": {},
   "outputs": [
    {
     "name": "stdout",
     "output_type": "stream",
     "text": [
      "Longest valid parentheses length: 8\n"
     ]
    }
   ],
   "source": [
    "#4. Longest Valid Parentheses Substring\n",
    "def longest_valid_parentheses(s):\n",
    "    stack = [-1]\n",
    "    max_length = 0\n",
    "    for i, char in enumerate(s):\n",
    "        if char == '(':\n",
    "            stack.append(i)\n",
    "        elif char == ')':\n",
    "            stack.pop()\n",
    "            if not stack:\n",
    "                stack.append(i)\n",
    "            else:\n",
    "                max_length = max(max_length, i - stack[-1])\n",
    "    return max_length\n",
    "\n",
    "\n",
    "string = \"((())())(()\"\n",
    "print(\"Longest valid parentheses length:\", longest_valid_parentheses(string))\n"
   ]
  },
  {
   "cell_type": "code",
   "execution_count": null,
   "id": "ecfd1cbc-566d-406b-a9cb-e42a96015d60",
   "metadata": {},
   "outputs": [],
   "source": []
  }
 ],
 "metadata": {
  "kernelspec": {
   "display_name": "Python 3 (ipykernel)",
   "language": "python",
   "name": "python3"
  },
  "language_info": {
   "codemirror_mode": {
    "name": "ipython",
    "version": 3
   },
   "file_extension": ".py",
   "mimetype": "text/x-python",
   "name": "python",
   "nbconvert_exporter": "python",
   "pygments_lexer": "ipython3",
   "version": "3.12.4"
  }
 },
 "nbformat": 4,
 "nbformat_minor": 5
}
