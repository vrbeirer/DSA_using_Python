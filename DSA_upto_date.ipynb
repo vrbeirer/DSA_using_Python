{
 "cells": [
  {
   "cell_type": "code",
   "execution_count": 1,
   "id": "fd92dd09-2ca1-4602-9835-92f068923682",
   "metadata": {},
   "outputs": [
    {
     "name": "stdin",
     "output_type": "stream",
     "text": [
      "Enter first number:  5\n",
      "Enter second number:  4\n"
     ]
    },
    {
     "name": "stdout",
     "output_type": "stream",
     "text": [
      "The GCD is: 1\n"
     ]
    }
   ],
   "source": [
    "\n",
    "num1 = int(input(\"Enter first number: \"))\n",
    "num2 = int(input(\"Enter second number: \"))\n",
    "\n",
    "while num2 != 0:\n",
    "    temp = num2\n",
    "    num2 = num1 % num2\n",
    "    num1 = temp\n",
    "\n",
    "print(\"The GCD is:\", num1)\n"
   ]
  },
  {
   "cell_type": "code",
   "execution_count": 2,
   "id": "fc1686e1-5b10-4dd7-bc52-747fb15da1ca",
   "metadata": {},
   "outputs": [
    {
     "name": "stdout",
     "output_type": "stream",
     "text": [
      "6\n"
     ]
    }
   ],
   "source": [
    "\n",
    "\n",
    "def gcd(m,n):\n",
    "  cf = []\n",
    "  for i in range(1,min(m,n)+1):\n",
    "    if m%i==0 and n%i==0:\n",
    "      mrcf = i\n",
    "  return mrcf\n",
    "result = gcd(12, 18)\n",
    "print(result)"
   ]
  },
  {
   "cell_type": "code",
   "execution_count": 3,
   "id": "0fd8e603-4e51-4c95-a031-c3f9b3be6989",
   "metadata": {},
   "outputs": [
    {
     "name": "stdout",
     "output_type": "stream",
     "text": [
      "        0\n",
      "0   1  10\n",
      "1   2  20\n",
      "2   3  30\n",
      "3   4  40\n",
      "4   5  50\n"
     ]
    }
   ],
   "source": [
    "import pandas as pd\n",
    "\n",
    "data = [\n",
    "    [\" 1  10\",],\n",
    "    [\" 2  20\",],\n",
    "    [\" 3  30\",],\n",
    "    [\" 4  40\"],\n",
    "    [\" 5  50\",]\n",
    "]\n",
    "df = pd.DataFrame(data)\n",
    "print(df)\n"
   ]
  },
  {
   "cell_type": "code",
   "execution_count": 4,
   "id": "ed0db0e9-8b40-411f-825d-f2e0e10a0749",
   "metadata": {},
   "outputs": [
    {
     "name": "stdout",
     "output_type": "stream",
     "text": [
      "     0\n",
      " 1  10\n",
      " 2  20\n",
      " 3  30\n",
      " 4  40\n",
      " 5  50\n"
     ]
    }
   ],
   "source": [
    "\n",
    "import pandas as pd\n",
    "\n",
    "data = [\n",
    "    [\" 1  10\"],\n",
    "    [\" 2  20\"],\n",
    "    [\" 3  30\"],\n",
    "    [\" 4  40\"],\n",
    "    [\" 5  50\"]\n",
    "]\n",
    "df = pd.DataFrame(data)\n",
    "print(df.to_string(index=False))\n",
    "\n"
   ]
  },
  {
   "cell_type": "code",
   "execution_count": 5,
   "id": "2b90cd66-5457-4570-a047-f83382ae17dd",
   "metadata": {},
   "outputs": [
    {
     "name": "stdout",
     "output_type": "stream",
     "text": [
      "key - value \n",
      "       1  10\n",
      "       2  20\n",
      "       3  30\n",
      "       4  40\n",
      "       5  50\n"
     ]
    }
   ],
   "source": [
    "import pandas as pd\n",
    "\n",
    "data = {\n",
    "    'key - value ': [' 1  10', ' 2  20', ' 3  30', ' 4  40', ' 5  50']\n",
    "}\n",
    "df = pd.DataFrame(data)\n",
    "print(df.to_string(index=False))\n"
   ]
  },
  {
   "cell_type": "code",
   "execution_count": 6,
   "id": "bde4bbae-ce2a-43b5-8d20-fe777f49fdbc",
   "metadata": {},
   "outputs": [
    {
     "name": "stdout",
     "output_type": "stream",
     "text": [
      "[120, 60, 40, 30, 24]\n"
     ]
    }
   ],
   "source": [
    "def product_except_self(nums):\n",
    "    result = [1] * len(nums)\n",
    "    left = 1\n",
    "    for i in range(len(nums)):\n",
    "        result[i] = left\n",
    "        left *= nums[i]\n",
    "    right = 1\n",
    "    for i in range(len(nums) - 1, -1, -1):\n",
    "        result[i] *= right\n",
    "        right *= nums[i]\n",
    "    return result\n",
    "nums = [1, 2, 3, 4, 5]\n",
    "output = product_except_self(nums)\n",
    "print(output)"
   ]
  },
  {
   "cell_type": "code",
   "execution_count": 7,
   "id": "888b1130-ad21-49f5-b01d-78dd4c6e363d",
   "metadata": {},
   "outputs": [
    {
     "name": "stdout",
     "output_type": "stream",
     "text": [
      "10\n",
      "20\n",
      "30\n",
      "40\n",
      "50\n"
     ]
    }
   ],
   "source": [
    "# creating array from 10 to 50\n",
    "\n",
    "from array import*\n",
    "\n",
    "array1 =array('i',[10,20,30,40,50])\n",
    "for x in array1:\n",
    "    print(x)"
   ]
  },
  {
   "cell_type": "code",
   "execution_count": 5,
   "id": "4a7ed078-a483-4a7e-9d05-8b8ea644b009",
   "metadata": {},
   "outputs": [
    {
     "name": "stdout",
     "output_type": "stream",
     "text": [
      "10\n",
      "40\n"
     ]
    }
   ],
   "source": [
    "# accessing elemnts using index no.\n",
    "\n",
    "array1 =([10,20,30,40,50])\n",
    "print(array1[0])\n",
    "print(array1[3])"
   ]
  },
  {
   "cell_type": "code",
   "execution_count": 9,
   "id": "48317c28-5b62-4f53-8531-3f7a686ec5e2",
   "metadata": {},
   "outputs": [
    {
     "name": "stdout",
     "output_type": "stream",
     "text": [
      "10\n",
      "60\n",
      "20\n",
      "30\n",
      "40\n",
      "50\n"
     ]
    }
   ],
   "source": [
    "# insert an element in array\n",
    "from array import*\n",
    "\n",
    "array1 =array('i',[10,20,30,40,50])\n",
    "array1.insert(1,60)\n",
    "for x in array1:\n",
    "    print(x)"
   ]
  },
  {
   "cell_type": "code",
   "execution_count": 10,
   "id": "db1eb24c-5cd3-48c1-b683-90dd143488c6",
   "metadata": {},
   "outputs": [
    {
     "name": "stdout",
     "output_type": "stream",
     "text": [
      "10\n",
      "20\n",
      "30\n",
      "50\n"
     ]
    }
   ],
   "source": [
    "# remove an element in array\n",
    "\n",
    "array1 =array('i',[10,20,30,40,50])\n",
    "array1.remove(40)\n",
    "for x in array1:\n",
    "    print(x)"
   ]
  },
  {
   "cell_type": "code",
   "execution_count": 11,
   "id": "320b7ee9-618d-4d78-8ea9-34784d66dada",
   "metadata": {},
   "outputs": [
    {
     "name": "stdout",
     "output_type": "stream",
     "text": [
      "3\n"
     ]
    }
   ],
   "source": [
    "# search an element in array\n",
    "array1 =array('i',[10,20,30,40,50])\n",
    "print(array1.index(40))"
   ]
  },
  {
   "cell_type": "code",
   "execution_count": 12,
   "id": "a7b986a5-eda2-40fb-a78f-754ce261d023",
   "metadata": {},
   "outputs": [
    {
     "name": "stdout",
     "output_type": "stream",
     "text": [
      "10\n",
      "20\n",
      "80\n",
      "40\n",
      "50\n"
     ]
    }
   ],
   "source": [
    "array1 =array('i',[10,20,30,40,50])\n",
    "array1[2]=80\n",
    "for x in array1:\n",
    "    print(x)"
   ]
  },
  {
   "cell_type": "code",
   "execution_count": 13,
   "id": "b06bc86c-162f-4fb1-8618-86c0c5351a46",
   "metadata": {},
   "outputs": [
    {
     "name": "stdout",
     "output_type": "stream",
     "text": [
      "Smallest value: 10\n",
      "Largest value: 50\n"
     ]
    }
   ],
   "source": [
    "\n",
    "arr = [10,20,30,40,50]\n",
    "smallest = min(arr)\n",
    "largest = max(arr)\n",
    "\n",
    "print(\"Smallest value:\", smallest)\n",
    "print(\"Largest value:\", largest)\n"
   ]
  },
  {
   "cell_type": "code",
   "execution_count": 14,
   "id": "d714ef36-9c6d-4edb-9fcd-38195d6d3e74",
   "metadata": {},
   "outputs": [
    {
     "name": "stdout",
     "output_type": "stream",
     "text": [
      "Smallest value: 10\n",
      "Largest value: 50\n"
     ]
    }
   ],
   "source": [
    "# min and max value from an array\n",
    "\n",
    "def find(arr):\n",
    "    small = min(arr)\n",
    "    large = max(arr)\n",
    "    return small, large\n",
    "arr = [10,20,30,40, 50]\n",
    "\n",
    "small, large = find(arr)\n",
    "print(\"Smallest value:\", small)\n",
    "print(\"Largest value:\", large)\n"
   ]
  },
  {
   "cell_type": "code",
   "execution_count": 15,
   "id": "26e2e48c-b555-42e7-b003-c8c2fe5dc602",
   "metadata": {},
   "outputs": [],
   "source": [
    "\n",
    "\n",
    "# sum and average of array elements \n"
   ]
  },
  {
   "cell_type": "code",
   "execution_count": 16,
   "id": "8363df39-f082-401d-8605-091052e8b18e",
   "metadata": {},
   "outputs": [
    {
     "name": "stdout",
     "output_type": "stream",
     "text": [
      "[10, 20, 30, 40, 50]\n",
      "[50, 40, 30, 20, 10]\n"
     ]
    }
   ],
   "source": [
    "#  reverse an aray without using any built-in function \n",
    "\n",
    "array=[10,20,30,40,50]\n",
    "print(array)\n",
    "array.reverse()\n",
    "print(array)"
   ]
  },
  {
   "cell_type": "code",
   "execution_count": 17,
   "id": "76bbd92c-9151-4d94-9912-11e36a445f4b",
   "metadata": {},
   "outputs": [
    {
     "name": "stdin",
     "output_type": "stream",
     "text": [
      "enter a element 66\n"
     ]
    },
    {
     "name": "stdout",
     "output_type": "stream",
     "text": [
      "Element not found\n"
     ]
    }
   ],
   "source": [
    "\n",
    "# find the index of an element \n",
    "\n",
    "def find(arr, element):\n",
    "    try:\n",
    "        return arr.index(element)\n",
    "    except ValueError:\n",
    "        return \"Element not found\"\n",
    "\n",
    "# Example usage\n",
    "my_array = [10, 20, 30, 40, 50]\n",
    "element=int(input(\"enter a element\"))\n",
    "\n",
    "index = find(my_array, element)\n",
    "print(index)\n"
   ]
  },
  {
   "cell_type": "code",
   "execution_count": 9,
   "id": "01fc7f5d-0652-49f7-a4e4-ddd8cae5fec2",
   "metadata": {},
   "outputs": [
    {
     "ename": "SyntaxError",
     "evalue": "incomplete input (3328394160.py, line 7)",
     "output_type": "error",
     "traceback": [
      "\u001b[1;36m  Cell \u001b[1;32mIn[9], line 7\u001b[1;36m\u001b[0m\n\u001b[1;33m    \u001b[0m\n\u001b[1;37m    ^\u001b[0m\n\u001b[1;31mSyntaxError\u001b[0m\u001b[1;31m:\u001b[0m incomplete input\n"
     ]
    }
   ],
   "source": [
    "from array import *\n",
    "\n",
    "x=array(i,[10,20,30,40,50])\n",
    "type(x)\n",
    "def index(x,fine):\n",
    "    try:\n",
    "    "
   ]
  },
  {
   "cell_type": "code",
   "execution_count": 19,
   "id": "de18209a-fd9d-4253-941d-0989d5e52eaa",
   "metadata": {},
   "outputs": [
    {
     "name": "stdout",
     "output_type": "stream",
     "text": [
      "[4, 5]\n"
     ]
    }
   ],
   "source": [
    "# array intersection\n",
    "\n",
    "def intersect(arr1, arr2):\n",
    "    return list(set(arr1) & set(arr2))\n",
    "\n",
    "arr1 = [1, 2, 3, 4, 5]\n",
    "arr2 = [4, 5, 6, 7]\n",
    "result = intersect(arr1, arr2)\n",
    "print(result)\n"
   ]
  },
  {
   "cell_type": "code",
   "execution_count": 1,
   "id": "e5c04eea-d639-4053-8c04-16082d5c936c",
   "metadata": {},
   "outputs": [
    {
     "name": "stdout",
     "output_type": "stream",
     "text": [
      "9\n"
     ]
    }
   ],
   "source": [
    "n = 13\n",
    "d = 2\n",
    "low = 1\n",
    "high = n\n",
    "\n",
    "while low <= high:\n",
    "    mid = (high + low) // 2  \n",
    "\n",
    "    sum_d = sum(int(digit) for digit in str(mid))  \n",
    "\n",
    "    if abs(sum_d - d) <= 2: \n",
    "        low = mid + 1\n",
    "    else:\n",
    "        high = mid - 1\n",
    "\n",
    "print(n - high)  \n"
   ]
  },
  {
   "cell_type": "code",
   "execution_count": 23,
   "id": "3e94b7f4-18cd-4083-b19f-a7905e40b6a5",
   "metadata": {},
   "outputs": [
    {
     "name": "stdout",
     "output_type": "stream",
     "text": [
      "10\n",
      "20\n",
      "30\n",
      "40\n"
     ]
    }
   ],
   "source": [
    "import array as arr\n",
    "\n",
    "x=arr.array('i',[10,20,30,40])\n",
    "type(x)\n",
    "for i in x:\n",
    "    print(i)"
   ]
  },
  {
   "cell_type": "code",
   "execution_count": 25,
   "id": "c44ec45b-0fa3-49da-9c32-024e87b4bba4",
   "metadata": {},
   "outputs": [
    {
     "name": "stdout",
     "output_type": "stream",
     "text": [
      "10\n",
      "20\n",
      "30\n",
      "40\n"
     ]
    }
   ],
   "source": [
    "import numpy as np\n",
    "x= np.array([10,20,30,40])\n",
    "type(x)\n",
    "for i in x:\n",
    "    print(i)"
   ]
  },
  {
   "cell_type": "code",
   "execution_count": 27,
   "id": "faa12a98-9187-45f5-b2c4-564ac10f245b",
   "metadata": {},
   "outputs": [
    {
     "name": "stdout",
     "output_type": "stream",
     "text": [
      "10\n",
      "40\n"
     ]
    }
   ],
   "source": [
    "import numpy as np\n",
    "x= np.array([10,20,30,40])\n",
    "type(x)\n",
    "print(x[0])\n",
    "print(x[3])"
   ]
  },
  {
   "cell_type": "code",
   "execution_count": 3,
   "id": "1fd8e2b1-e517-41e0-b8d6-05494efe5598",
   "metadata": {},
   "outputs": [
    {
     "name": "stdout",
     "output_type": "stream",
     "text": [
      "10\n",
      "20\n",
      "30\n",
      "20\n",
      "40\n"
     ]
    }
   ],
   "source": [
    "import numpy as np\n",
    "\n",
    "x = np.array([10, 20, 30, 40])\n",
    "x = np.insert(x, 3, 20)  # Insert 20 at index 3\n",
    "\n",
    "for i in x:\n",
    "    print(i)\n"
   ]
  },
  {
   "cell_type": "code",
   "execution_count": 5,
   "id": "d757509e-e211-490d-a72b-6b3145fae836",
   "metadata": {},
   "outputs": [
    {
     "name": "stdout",
     "output_type": "stream",
     "text": [
      "[10 20 40]\n"
     ]
    }
   ],
   "source": [
    "import numpy as np\n",
    "\n",
    "x = np.array([10, 20, 30, 40])\n",
    "x = np.delete(x, np.where(x == 30))  # Remove the element 30\n",
    "\n",
    "print(x)\n"
   ]
  },
  {
   "cell_type": "code",
   "execution_count": 35,
   "id": "925b529f-410f-4626-aec5-a9b95cb833b7",
   "metadata": {},
   "outputs": [
    {
     "name": "stdout",
     "output_type": "stream",
     "text": [
      "(4, 77)\n"
     ]
    }
   ],
   "source": [
    "# min and max of array\n",
    "\n",
    "import numpy as np\n",
    "x=np.array([4,33,5,6,7,77])\n",
    "def exercise(x):\n",
    "    minn=np.min(x)\n",
    "    maxx=np.max(x)\n",
    "    return minn, maxx\n",
    "\n",
    "result=exercise(x)\n",
    "print(result)"
   ]
  },
  {
   "cell_type": "code",
   "execution_count": 41,
   "id": "fbf062af-190d-4361-bd3e-d448dc1fe0b4",
   "metadata": {},
   "outputs": [
    {
     "name": "stdout",
     "output_type": "stream",
     "text": [
      "(132, 22.0)\n"
     ]
    }
   ],
   "source": [
    "# average and sum  of an array\n",
    "\n",
    "import numpy as np\n",
    "x=np.array([4,33,5,6,7,77])\n",
    "def avg(x):\n",
    "    length=len(x)\n",
    "    add_all=np.sum(x)\n",
    "    average= add_all/length\n",
    "    return add_all, average\n",
    "\n",
    "result= avg(x)\n",
    "print(result)"
   ]
  },
  {
   "cell_type": "code",
   "execution_count": 45,
   "id": "2b5e3cf7-a6fd-4f56-92ff-4622d9b4c9aa",
   "metadata": {},
   "outputs": [
    {
     "name": "stdout",
     "output_type": "stream",
     "text": [
      "77\n",
      "7\n",
      "6\n",
      "5\n",
      "33\n",
      "4\n"
     ]
    }
   ],
   "source": [
    "# reversing an array element\n",
    "\n",
    "import numpy as np\n",
    "x=np.array([4,33,5,6,7,77])\n",
    "n=len(x)\n",
    "for i in range(n-1,-1,-1):\n",
    "    print(x[i])\n"
   ]
  },
  {
   "cell_type": "code",
   "execution_count": 55,
   "id": "4aad629e-d6dc-46b4-aae1-a15c471872d5",
   "metadata": {},
   "outputs": [
    {
     "name": "stdout",
     "output_type": "stream",
     "text": [
      "[5, 10, 20, 0, 3, 6]\n"
     ]
    }
   ],
   "source": [
    "# remove duplicate in array\n",
    "\n",
    "import numpy as np\n",
    "x=np.array([5,10,20,0,3,6])\n",
    "def rem_dup(x):\n",
    "    new_arr=[]\n",
    "    for i in x:\n",
    "        if i not in new_arr:\n",
    "            new_arr.append(i)\n",
    "    return new_arr\n",
    "\n",
    "result= rem_dup(x)\n",
    "print(result)"
   ]
  },
  {
   "cell_type": "code",
   "execution_count": 59,
   "id": "8034aa32-082b-4a5d-9b17-2eca90baa01e",
   "metadata": {},
   "outputs": [
    {
     "name": "stdout",
     "output_type": "stream",
     "text": [
      "[ 0  3  5  6 10 20]\n"
     ]
    }
   ],
   "source": [
    "# remove duplicate in array using type conversion\n",
    "\n",
    "import numpy as np\n",
    "x=np.array([5,10,20,0,3,6])\n",
    "def rem_dup(x):\n",
    "    res= list(set(x))\n",
    "    return np.array(res)\n",
    "\n",
    "result= rem_dup(x)\n",
    "type(result)\n",
    "print(result)"
   ]
  },
  {
   "cell_type": "code",
   "execution_count": 7,
   "id": "dcb02d72-4a64-4f12-bdf5-53d5e91a261f",
   "metadata": {},
   "outputs": [
    {
     "name": "stdin",
     "output_type": "stream",
     "text": [
      "Enter the element to search:  0\n"
     ]
    },
    {
     "name": "stdout",
     "output_type": "stream",
     "text": [
      "3\n"
     ]
    }
   ],
   "source": [
    "# search an element in array\n",
    "\n",
    "import numpy as np\n",
    "\n",
    "x = np.array([5, 10, 20, 0, 3, 6])\n",
    "\n",
    "def index_arr(x, s_ele):\n",
    "    try:\n",
    "        for i in range(len(x)):\n",
    "            if x[i] == s_ele:\n",
    "                return i\n",
    "        raise ValueError(\"Element not found\")  \n",
    "    except ValueError:\n",
    "        return -1\n",
    "\n",
    "s_ele = int(input(\"Enter the element to search: \"))\n",
    "result = index_arr(x, s_ele)\n",
    "print(result)\n"
   ]
  },
  {
   "cell_type": "code",
   "execution_count": 19,
   "id": "343fdf4c-6670-4a0b-8c7a-845300d09b87",
   "metadata": {},
   "outputs": [
    {
     "name": "stdout",
     "output_type": "stream",
     "text": [
      "[2 5]\n"
     ]
    }
   ],
   "source": [
    "# array intersection \n",
    "\n",
    "import numpy as np\n",
    "\n",
    "arr1 = np.array([1, 2, 3, 4, 5])\n",
    "arr2 = np.array([5, 2, 88, 6, 44])\n",
    "\n",
    "def common_e(arr1, arr2):\n",
    "    new_arr = [] \n",
    "    for i in arr1:\n",
    "        if i in arr2:\n",
    "            new_arr.append(i) \n",
    "    return np.array(new_arr) \n",
    "\n",
    "result = common_e(arr1, arr2)\n",
    "print(result)\n"
   ]
  },
  {
   "cell_type": "code",
   "execution_count": 40,
   "id": "1ff3cc32-2972-4159-8c79-622b35312cf8",
   "metadata": {},
   "outputs": [
    {
     "name": "stdout",
     "output_type": "stream",
     "text": [
      "Original array: [1 2 3 4 5]\n",
      "Product array: [120  60  40  30  24]\n"
     ]
    }
   ],
   "source": [
    "# array special product without division \n",
    "\n",
    "import numpy as np\n",
    "\n",
    "x = np.array([1, 2, 3, 4, 5])\n",
    "\n",
    "def SP_Without_division(x):\n",
    "    n = len(x)\n",
    "    res = [1] * n \n",
    "    \n",
    "    for i in range(n):\n",
    "        for j in range(n):\n",
    "            if i != j:\n",
    "                res[i] *= x[j] \n",
    "    return np.array(res)\n",
    "\n",
    "print(\"Original array:\", x)\n",
    "result = SP_Without_division(x)\n",
    "print(\"Product array:\", result)\n"
   ]
  },
  {
   "cell_type": "code",
   "execution_count": 7,
   "id": "8270b505-da5e-4101-9808-accdfff8de2f",
   "metadata": {},
   "outputs": [
    {
     "name": "stdout",
     "output_type": "stream",
     "text": [
      "Original array: [1 2 3 4 5]\n",
      "Product array: [120, 60, 40, 30, 24]\n"
     ]
    }
   ],
   "source": [
    "# array special product with division\n",
    "\n",
    "import numpy as np\n",
    "\n",
    "def SP_Without_division(x):\n",
    "    n = len(x)\n",
    "    result = [1] * n\n",
    "    \n",
    "    left_product = 1\n",
    "    for i in range(n):\n",
    "        result[i] = left_product\n",
    "        left_product *= x[i]\n",
    "\n",
    "    right_product = 1\n",
    "    for i in range(n - 1, -1, -1):\n",
    "        result[i] *= right_product\n",
    "        right_product *= x[i]\n",
    "\n",
    "    return result\n",
    "\n",
    "x = np.array([1, 2, 3, 4, 5])\n",
    "print(\"Original array:\", x)\n",
    "print(\"Product array:\", SP_Without_division(x))\n",
    "\n"
   ]
  },
  {
   "cell_type": "code",
   "execution_count": null,
   "id": "0205c745-a483-46f7-a810-63bca20ea80d",
   "metadata": {},
   "outputs": [],
   "source": [
    "# all numbers with specific difference \n",
    "\n",
    "n=13; d=2\n",
    "low=1; high=13\n",
    "\n",
    "while low<= high\n",
    "mid = (high+loww)//2\n",
    "sum_d = sum(int(digit) for ddigit in str (mid))\n",
    "diff = mid-sum_d\n",
    "if abs(diff)<=2:\n",
    "    low = mid+1\n",
    "else:\n",
    "    high = mid"
   ]
  },
  {
   "cell_type": "code",
   "execution_count": 29,
   "id": "149d2197-f3cf-45df-ba7f-ead58f4ff5ae",
   "metadata": {},
   "outputs": [
    {
     "name": "stdout",
     "output_type": "stream",
     "text": [
      "last occurance of 1: 8\n"
     ]
    }
   ],
   "source": [
    "import numpy as np\n",
    "\n",
    "x=np.array([0,0,1,1,0,1,0,1,1,0])\n",
    "def last_1(x):\n",
    "    index= -1\n",
    "    n=len(x)\n",
    "    for i in range(n):\n",
    "        if x[i]==1:\n",
    "            index=i\n",
    "    return index\n",
    "print(\"last occurance of 1:\", last_1(x))"
   ]
  },
  {
   "cell_type": "code",
   "execution_count": 3,
   "id": "ecf6cc71-f361-4bef-832c-d1b69834f1ec",
   "metadata": {},
   "outputs": [
    {
     "name": "stdout",
     "output_type": "stream",
     "text": [
      "Pranav 21\n"
     ]
    }
   ],
   "source": [
    "# create class Person:\n",
    "    def __init__(self, name, age):\n",
    "        self.name = name\n",
    "        self.age = age\n",
    "    \n",
    "    def display(self):\n",
    "        print(self.name,self.age)\n",
    "\n",
    "person1 = Person(\"Pranav\", 21)\n",
    "person1.display()\n"
   ]
  },
  {
   "cell_type": "code",
   "execution_count": 17,
   "id": "aa3443b6-beeb-433d-acd3-47ef28080219",
   "metadata": {},
   "outputs": [
    {
     "name": "stdin",
     "output_type": "stream",
     "text": [
      "Enter the number of elements:  4 \n",
      "Enter the elements and separate it by space:  2 4 6 3 \n"
     ]
    },
    {
     "name": "stdout",
     "output_type": "stream",
     "text": [
      "Array elements: ['2', '4', '6', '3']\n"
     ]
    }
   ],
   "source": [
    "# array elements using user input \n",
    "\n",
    "n = int(input(\"Enter the number of elements: \"))\n",
    "arr = []\n",
    "arr = input(\"Enter the elements and separate it by space: \").split()\n",
    "print(\"Array elements:\", arr)\n"
   ]
  },
  {
   "cell_type": "code",
   "execution_count": 27,
   "id": "0cc23510-5579-4f14-b013-5a4d35fbb0e2",
   "metadata": {},
   "outputs": [
    {
     "name": "stdout",
     "output_type": "stream",
     "text": [
      "23\n",
      "[11, 12, 13] \n",
      "[21, 22, 23] \n",
      "[31, 32, 33] \n",
      "[11, 12, 13] \n",
      "[21, 22, 23] \n",
      "[31, 32, 33] \n",
      "[11, 12, 13] \n",
      "[21, 22, 23] \n",
      "[31, 32, 33] \n"
     ]
    }
   ],
   "source": [
    "x= [\n",
    "    [11,12,13],\n",
    "    [21,22,23],\n",
    "    [31,32,33],\n",
    "]\n",
    "\n",
    "op = x[1][2]\n",
    "print(op\n",
    "     )\n",
    "for i in x:\n",
    "    for j in x:\n",
    "        print(j, end=\" \")\n",
    "        print()"
   ]
  },
  {
   "cell_type": "code",
   "execution_count": 29,
   "id": "fc0dd2fd-1692-4e13-89a2-89febbc01408",
   "metadata": {},
   "outputs": [
    {
     "name": "stdout",
     "output_type": "stream",
     "text": [
      "[1, 2, 3, 4, 5, 6, 7, 8, 9, 10]\n"
     ]
    }
   ],
   "source": [
    "\n",
    "a=[1,2,3,4,5]\n",
    "b=[6,7,8,9,10]\n",
    "\n",
    "sum= a+b\n",
    "print(sum)"
   ]
  },
  {
   "cell_type": "code",
   "execution_count": 39,
   "id": "3eefe48b-5eee-404d-8708-fbf9fde5b807",
   "metadata": {},
   "outputs": [
    {
     "name": "stdout",
     "output_type": "stream",
     "text": [
      "[22, 24, 26]\n",
      "[42, 44, 46]\n",
      "[62, 64, 66]\n"
     ]
    }
   ],
   "source": [
    "x1 = [\n",
    "    [11, 12, 13],\n",
    "    [21, 22, 23],\n",
    "    [31, 32, 33],\n",
    "]\n",
    "\n",
    "x2 = [\n",
    "    [11, 12, 13],\n",
    "    [21, 22, 23],\n",
    "    [31, 32, 33],\n",
    "]\n",
    "\n",
    "result = []\n",
    "\n",
    "for i in range(len(x1)):\n",
    "    row = []\n",
    "    for j in range(len(x1[0])):\n",
    "        row.append(x1[i][j] + x2[i][j])\n",
    "    result.append(row)\n",
    "\n",
    "# Print the result\n",
    "for row in result:\n",
    "    print(row)\n"
   ]
  },
  {
   "cell_type": "code",
   "execution_count": 1,
   "id": "67b7bd4f-d213-44b9-99c5-c562f72c0ade",
   "metadata": {},
   "outputs": [
    {
     "name": "stdout",
     "output_type": "stream",
     "text": [
      "5 -> 10 -> 15 -> 20 -> 25 -> 30 -> None\n",
      "First node deleted successfully.\n",
      "Last node deleted successfully.\n",
      "Node with value 20 deleted successfully.\n",
      "10 -> 15 -> 25 -> None\n"
     ]
    }
   ],
   "source": [
    "# Singly Linked List Implementation\n",
    "\n",
    "class Node:\n",
    "    def __init__(self, newData=None, link=None):\n",
    "        self.data = newData\n",
    "        self.next = link\n",
    "\n",
    "class SingleLinkedList:\n",
    "    def __init__(self):\n",
    "        self.head = None\n",
    "\n",
    "    # Insert at the end\n",
    "    def insert_end(self, newData):\n",
    "        newNode = Node(newData)\n",
    "        if self.head is None:\n",
    "            self.head = newNode\n",
    "        else:\n",
    "            curNode = self.head\n",
    "            while curNode.next is not None:\n",
    "                curNode = curNode.next\n",
    "            curNode.next = newNode\n",
    "\n",
    "    # Insert at the beginning\n",
    "    def insert_begin(self, newData):\n",
    "        self.head = Node(newData, self.head)\n",
    "\n",
    "    # Insert before a given position (1-based index)\n",
    "    def insert_before_nth(self, newData, location):\n",
    "        if location <= 0:\n",
    "            print(\"Invalid position!\")\n",
    "            return\n",
    "\n",
    "        if location == 1:\n",
    "            self.insert_begin(newData)\n",
    "            return\n",
    "\n",
    "        curNode = self.head\n",
    "        prev = None\n",
    "        c = 1\n",
    "\n",
    "        while curNode is not None and c < location:\n",
    "            prev = curNode\n",
    "            curNode = curNode.next\n",
    "            c += 1\n",
    "\n",
    "        if curNode is None:\n",
    "            print(\"Position out of range!\")\n",
    "            return\n",
    "\n",
    "        newNode = Node(newData, curNode)\n",
    "        prev.next = newNode\n",
    "\n",
    "    # Insert after a given position (1-based index)\n",
    "    def insert_after_nth(self, newData, location):\n",
    "        curNode = self.head\n",
    "        c = 1\n",
    "\n",
    "        while curNode is not None and c < location:\n",
    "            curNode = curNode.next\n",
    "            c += 1\n",
    "\n",
    "        if curNode is None:\n",
    "            print(\"Position out of range!\")\n",
    "            return\n",
    "\n",
    "        newNode = Node(newData, curNode.next)\n",
    "        curNode.next = newNode\n",
    "\n",
    "    # Delete the first node\n",
    "    def delete_first(self):\n",
    "        if self.head is None:\n",
    "            print(\"Empty list. Deletion not possible.\")\n",
    "            return\n",
    "\n",
    "        curNode = self.head\n",
    "        self.head = self.head.next\n",
    "        del curNode\n",
    "        print(\"First node deleted successfully.\")\n",
    "\n",
    "    # Delete the last node\n",
    "    def delete_last(self):\n",
    "        if self.head is None:\n",
    "            print(\"Empty list. Deletion not possible.\")\n",
    "            return\n",
    "\n",
    "        if self.head.next is None:\n",
    "            del self.head\n",
    "            self.head = None\n",
    "            print(\"Last node deleted successfully.\")\n",
    "            return\n",
    "\n",
    "        curNode = self.head\n",
    "        while curNode.next.next is not None:\n",
    "            curNode = curNode.next\n",
    "\n",
    "        del curNode.next\n",
    "        curNode.next = None\n",
    "        print(\"Last node deleted successfully.\")\n",
    "\n",
    "    # Delete a node by value\n",
    "    def delete_anynode(self, num):\n",
    "        if self.head is None:\n",
    "            print(\"Empty list. Deletion not possible.\")\n",
    "            return\n",
    "\n",
    "        curNode = self.head\n",
    "\n",
    "        if curNode.data == num:\n",
    "            self.head = self.head.next\n",
    "            del curNode\n",
    "            print(f\"Node with value {num} deleted successfully.\")\n",
    "            return\n",
    "\n",
    "        prev = None\n",
    "        while curNode is not None:\n",
    "            if curNode.data == num:\n",
    "                prev.next = curNode.next\n",
    "                del curNode\n",
    "                print(f\"Node with value {num} deleted successfully.\")\n",
    "                return\n",
    "            prev = curNode\n",
    "            curNode = curNode.next\n",
    "\n",
    "        print(\"Node not found!\")\n",
    "\n",
    "    # Display the linked list\n",
    "    def display(self):\n",
    "        if self.head is None:\n",
    "            print(\"The list is empty.\")\n",
    "            return\n",
    "\n",
    "        curNode = self.head\n",
    "        while curNode:\n",
    "            print(curNode.data, end=\" -> \")\n",
    "            curNode = curNode.next\n",
    "        print(\"None\")\n",
    "\n",
    "\n",
    "# Example Usage\n",
    "if __name__ == \"__main__\":\n",
    "    sll = SingleLinkedList()\n",
    "    \n",
    "    sll.insert_end(10)\n",
    "    sll.insert_end(20)\n",
    "    sll.insert_end(30)\n",
    "    sll.insert_begin(5)\n",
    "    sll.insert_before_nth(15, 3)\n",
    "    sll.insert_after_nth(25, 4)\n",
    "    \n",
    "    sll.display()\n",
    "\n",
    "    sll.delete_first()\n",
    "    sll.delete_last()\n",
    "    sll.delete_anynode(20)\n",
    "    \n",
    "    sll.display()\n"
   ]
  },
  {
   "cell_type": "code",
   "execution_count": 5,
   "id": "ce4cd01b-0566-4830-99ce-98111ce9d919",
   "metadata": {},
   "outputs": [
    {
     "name": "stdout",
     "output_type": "stream",
     "text": [
      "\n",
      "Program to implement Linked list\n",
      "1. Create/appending the list\n",
      "2. Insert Node at the beginning\n",
      "3. Insert Node before Nth node\n",
      "4. Insert Node after Nth node\n",
      "5. Delete first node\n",
      "6. Delete last node\n",
      "7. Delete the node whose data matches with given data\n",
      "8. Displaying the list\n",
      "9. Exit\n",
      "---------------------------------------------------------\n"
     ]
    },
    {
     "name": "stdin",
     "output_type": "stream",
     "text": [
      "Enter your choice:  1\n",
      "Enter the Data:  10\n",
      "Enter more(Y/N):  y\n",
      "Enter the Data:  20\n",
      "Enter more(Y/N):  n\n"
     ]
    },
    {
     "name": "stdout",
     "output_type": "stream",
     "text": [
      "\n",
      "Program to implement Linked list\n",
      "1. Create/appending the list\n",
      "2. Insert Node at the beginning\n",
      "3. Insert Node before Nth node\n",
      "4. Insert Node after Nth node\n",
      "5. Delete first node\n",
      "6. Delete last node\n",
      "7. Delete the node whose data matches with given data\n",
      "8. Displaying the list\n",
      "9. Exit\n",
      "---------------------------------------------------------\n"
     ]
    },
    {
     "name": "stdin",
     "output_type": "stream",
     "text": [
      "Enter your choice:  2\n",
      "Enter the Data:  10\n"
     ]
    },
    {
     "name": "stdout",
     "output_type": "stream",
     "text": [
      "\n",
      "Program to implement Linked list\n",
      "1. Create/appending the list\n",
      "2. Insert Node at the beginning\n",
      "3. Insert Node before Nth node\n",
      "4. Insert Node after Nth node\n",
      "5. Delete first node\n",
      "6. Delete last node\n",
      "7. Delete the node whose data matches with given data\n",
      "8. Displaying the list\n",
      "9. Exit\n",
      "---------------------------------------------------------\n"
     ]
    },
    {
     "name": "stdin",
     "output_type": "stream",
     "text": [
      "Enter your choice:  3\n",
      "Enter the node number before which new node will be inserted:  5\n",
      "Enter the data:  15\n"
     ]
    },
    {
     "name": "stdout",
     "output_type": "stream",
     "text": [
      "\n",
      "Program to implement Linked list\n",
      "1. Create/appending the list\n",
      "2. Insert Node at the beginning\n",
      "3. Insert Node before Nth node\n",
      "4. Insert Node after Nth node\n",
      "5. Delete first node\n",
      "6. Delete last node\n",
      "7. Delete the node whose data matches with given data\n",
      "8. Displaying the list\n",
      "9. Exit\n",
      "---------------------------------------------------------\n"
     ]
    },
    {
     "name": "stdin",
     "output_type": "stream",
     "text": [
      "Enter your choice:  9\n"
     ]
    },
    {
     "name": "stdout",
     "output_type": "stream",
     "text": [
      "\n",
      "Quitting.....\n"
     ]
    }
   ],
   "source": [
    "class Node:\n",
    "    def __init__(self, newData=None, link=None):\n",
    "        self.data = newData\n",
    "        self.next = link\n",
    "\n",
    "class SingleLinkedList:\n",
    "    def __init__(self):\n",
    "        self.Head = None\n",
    "\n",
    "    def insert_end(self, newData):\n",
    "        newNode = Node(newData)\n",
    "        if self.Head is None:\n",
    "            self.Head = newNode\n",
    "        else:\n",
    "            curNode = self.Head\n",
    "            while curNode.next is not None:\n",
    "                curNode = curNode.next\n",
    "            curNode.next = newNode\n",
    "\n",
    "    # Function to insert a node at the beginning of the list\n",
    "    def insert_begin(self, newData):\n",
    "        self.Head = Node(newData, self.Head)\n",
    "\n",
    "    def insert_before_nth(self, newData, location):\n",
    "        if self.Head is None or location == 1:\n",
    "            self.Head = Node(newData, self.Head)\n",
    "        else:\n",
    "            curNode = self.Head\n",
    "            c = 1\n",
    "            while c < location - 1 and curNode.next is not None:\n",
    "                c += 1\n",
    "                curNode = curNode.next\n",
    "            newNode = Node(newData, curNode.next)\n",
    "            curNode.next = newNode\n",
    "\n",
    "    def insert_after_nth(self, newData, location):\n",
    "        if self.Head is None:\n",
    "            self.Head = Node(newData, self.Head)\n",
    "        else:\n",
    "            curNode = self.Head\n",
    "            c = 1\n",
    "            while c < location and curNode.next is not None:\n",
    "                c += 1\n",
    "                curNode = curNode.next\n",
    "            curNode.next = Node(newData, curNode.next)\n",
    "\n",
    "    def delete_first(self):\n",
    "        if self.Head is None:\n",
    "            print(\"Empty list. Deletion not possible\")\n",
    "        else:\n",
    "            curNode = self.Head\n",
    "            self.Head = self.Head.next\n",
    "            del(curNode)\n",
    "            print(\"Node Deleted Successfully\")\n",
    "\n",
    "    def delete_last(self):\n",
    "        if self.Head is None:\n",
    "            print(\"Empty list. Deletion not possible\")\n",
    "        elif self.Head.next is None:\n",
    "            del(self.Head)\n",
    "            self.Head = None\n",
    "        else:\n",
    "            curNode = self.Head\n",
    "            while curNode.next.next is not None:\n",
    "                curNode = curNode.next\n",
    "            del(curNode.next)\n",
    "            curNode.next = None\n",
    "            print(\"Node Deleted Successfully\")\n",
    "\n",
    "    def delete_anynode(self, num):\n",
    "        if self.Head is None:\n",
    "            print(\"Empty list. Deletion not possible\")\n",
    "        else:\n",
    "            curNode = self.Head\n",
    "            if curNode.data == num:\n",
    "                self.Head = self.Head.next\n",
    "                del(curNode)\n",
    "                print(\"Node Deleted successfully\")\n",
    "            else:\n",
    "                flag = 0\n",
    "                prev = None\n",
    "                while curNode is not None:\n",
    "                    if curNode.data == num:\n",
    "                        flag = 1\n",
    "                        break\n",
    "                    prev = curNode\n",
    "                    curNode = curNode.next\n",
    "                if flag == 0:\n",
    "                    print(\"Node not found\")\n",
    "                else:\n",
    "                    prev.next = curNode.next\n",
    "                    del(curNode)\n",
    "                    print(\"Node deleted successfully\")\n",
    "\n",
    "    def display(self):\n",
    "        if self.Head is None:\n",
    "            print(\"Empty List\")\n",
    "        else:\n",
    "            curNode = self.Head\n",
    "            while curNode is not None:\n",
    "                print(curNode.data, end=\" --> \")\n",
    "                curNode = curNode.next\n",
    "            print(\"None\")\n",
    "\n",
    "\n",
    "head = SingleLinkedList()\n",
    "while True:\n",
    "    print(\"\\nProgram to implement Linked list\")\n",
    "    print(\"1. Create/appending the list\")\n",
    "    print(\"2. Insert Node at the beginning\")\n",
    "    print(\"3. Insert Node before Nth node\")\n",
    "    print(\"4. Insert Node after Nth node\")\n",
    "    print(\"5. Delete first node\")\n",
    "    print(\"6. Delete last node\")\n",
    "    print(\"7. Delete the node whose data matches with given data\")\n",
    "    print(\"8. Displaying the list\")\n",
    "    print(\"9. Exit\")\n",
    "    print(\"---------------------------------------------------------\")\n",
    "    choice = int(input(\"Enter your choice: \"))\n",
    "    if choice == 1:\n",
    "        opt = 'Y'\n",
    "        while opt.upper() == 'Y':\n",
    "            num = int(input(\"Enter the Data: \"))\n",
    "            head.insert_end(num)\n",
    "            opt = input(\"Enter more(Y/N): \")\n",
    "    elif choice == 2:\n",
    "        num = int(input(\"Enter the Data: \"))\n",
    "        head.insert_begin(num)\n",
    "    elif choice == 3:\n",
    "        loc = int(input(\"Enter the node number before which new node will be inserted: \"))\n",
    "        num = int(input(\"Enter the data: \"))\n",
    "        head.insert_before_nth(num, loc)\n",
    "    elif choice == 4:\n",
    "        loc = int(input(\"Enter the node number after which new node will be inserted: \"))\n",
    "        num = int(input(\"Enter the Data: \"))\n",
    "        head.insert_after_nth(num, loc)\n",
    "    elif choice == 5:\n",
    "        head.delete_first()\n",
    "    elif choice == 6:\n",
    "        head.delete_last()\n",
    "    elif choice == 7:\n",
    "        num = int(input(\"Enter the data you want to delete: \"))\n",
    "        head.delete_anynode(num)\n",
    "    elif choice == 8:\n",
    "        head.display()\n",
    "    elif choice == 9:\n",
    "        print(\"\\nQuitting.....\")\n",
    "        break\n",
    "    else:\n",
    "        print(\"Invalid choice. Please enter the correct choice.\")\n",
    "        continue\n"
   ]
  },
  {
   "cell_type": "code",
   "execution_count": 15,
   "id": "1558204c-ccab-45ab-afa7-0b0f0a015b5d",
   "metadata": {},
   "outputs": [
    {
     "name": "stdout",
     "output_type": "stream",
     "text": [
      "30 <-> 20 <-> 10 <-> None\n"
     ]
    }
   ],
   "source": [
    "class Node:\n",
    "    def __init__(self, data):\n",
    "        self.data = data\n",
    "        self.prev = None  \n",
    "        self.next = None  \n",
    "\n",
    "class DoublyLinkedList:\n",
    "    def __init__(self):\n",
    "        self.head = None  # Initialize head to None\n",
    "\n",
    "    def insert_begin(self, newData):\n",
    "        newNode = Node(newData)  # Create a new node\n",
    "        newNode.next = self.head  # Point new node’s next to current head\n",
    "        \n",
    "        if self.head is not None:\n",
    "            self.head.prev = newNode  # Update previous head’s previous pointer\n",
    "        \n",
    "        self.head = newNode  # Update head to new node\n",
    "\n",
    "    def display(self):\n",
    "        temp = self.head\n",
    "        while temp:\n",
    "            print(temp.data, end=\" <-> \")\n",
    "            temp = temp.next\n",
    "        print(\"None\")\n",
    "\n",
    "# Example Usage\n",
    "dll = DoublyLinkedList()\n",
    "dll.insert_begin(10)\n",
    "dll.insert_begin(20)\n",
    "dll.insert_begin(30)\n",
    "dll.display()\n"
   ]
  },
  {
   "cell_type": "code",
   "execution_count": null,
   "id": "334950ee-3766-4125-9d41-1cd9a2dd0132",
   "metadata": {},
   "outputs": [],
   "source": []
  }
 ],
 "metadata": {
  "kernelspec": {
   "display_name": "Python 3 (ipykernel)",
   "language": "python",
   "name": "python3"
  },
  "language_info": {
   "codemirror_mode": {
    "name": "ipython",
    "version": 3
   },
   "file_extension": ".py",
   "mimetype": "text/x-python",
   "name": "python",
   "nbconvert_exporter": "python",
   "pygments_lexer": "ipython3",
   "version": "3.12.4"
  }
 },
 "nbformat": 4,
 "nbformat_minor": 5
}
