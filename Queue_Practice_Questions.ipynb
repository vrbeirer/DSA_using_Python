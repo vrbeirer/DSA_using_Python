{
 "cells": [
  {
   "cell_type": "code",
   "execution_count": 3,
   "id": "9b563dd1-6f32-4be3-be86-85463b6f3097",
   "metadata": {},
   "outputs": [
    {
     "name": "stdout",
     "output_type": "stream",
     "text": [
      "\n",
      "1. Enqueue\n",
      "2. Dequeue\n",
      "3. Peek\n",
      "4. Display\n",
      "5. Exit\n"
     ]
    },
    {
     "name": "stdin",
     "output_type": "stream",
     "text": [
      "Enter your choice:  1\n",
      "Enter data:  23\n"
     ]
    },
    {
     "name": "stdout",
     "output_type": "stream",
     "text": [
      "\n",
      "1. Enqueue\n",
      "2. Dequeue\n",
      "3. Peek\n",
      "4. Display\n",
      "5. Exit\n"
     ]
    },
    {
     "name": "stdin",
     "output_type": "stream",
     "text": [
      "Enter your choice:  1\n",
      "Enter data:  34\n"
     ]
    },
    {
     "name": "stdout",
     "output_type": "stream",
     "text": [
      "\n",
      "1. Enqueue\n",
      "2. Dequeue\n",
      "3. Peek\n",
      "4. Display\n",
      "5. Exit\n"
     ]
    },
    {
     "name": "stdin",
     "output_type": "stream",
     "text": [
      "Enter your choice:  2\n"
     ]
    },
    {
     "name": "stdout",
     "output_type": "stream",
     "text": [
      "Dequeued: 23\n",
      "\n",
      "1. Enqueue\n",
      "2. Dequeue\n",
      "3. Peek\n",
      "4. Display\n",
      "5. Exit\n"
     ]
    },
    {
     "name": "stdin",
     "output_type": "stream",
     "text": [
      "Enter your choice:  1\n",
      "Enter data:  44\n"
     ]
    },
    {
     "name": "stdout",
     "output_type": "stream",
     "text": [
      "\n",
      "1. Enqueue\n",
      "2. Dequeue\n",
      "3. Peek\n",
      "4. Display\n",
      "5. Exit\n"
     ]
    },
    {
     "name": "stdin",
     "output_type": "stream",
     "text": [
      "Enter your choice:  3\n"
     ]
    },
    {
     "name": "stdout",
     "output_type": "stream",
     "text": [
      "Front item: 34\n",
      "\n",
      "1. Enqueue\n",
      "2. Dequeue\n",
      "3. Peek\n",
      "4. Display\n",
      "5. Exit\n"
     ]
    },
    {
     "name": "stdin",
     "output_type": "stream",
     "text": [
      "Enter your choice:  4\n"
     ]
    },
    {
     "name": "stdout",
     "output_type": "stream",
     "text": [
      "Queue: [34, 44]\n",
      "\n",
      "1. Enqueue\n",
      "2. Dequeue\n",
      "3. Peek\n",
      "4. Display\n",
      "5. Exit\n"
     ]
    },
    {
     "name": "stdin",
     "output_type": "stream",
     "text": [
      "Enter your choice:  5\n"
     ]
    },
    {
     "name": "stdout",
     "output_type": "stream",
     "text": [
      "Quitting...\n"
     ]
    }
   ],
   "source": [
    "# 1 . Queue using Two Stacks (Array or List-based):\n",
    "class QueueUsingStacks:\n",
    "    def __init__(self):\n",
    "        self.stack1 = []\n",
    "        self.stack2 = []\n",
    "\n",
    "    def is_empty(self):\n",
    "        return not self.stack1 and not self.stack2\n",
    "\n",
    "    def enqueue(self, x):\n",
    "        self.stack1.append(x)\n",
    "\n",
    "    def dequeue(self):\n",
    "        if self.is_empty():\n",
    "            print(\"Queue Underflow\")\n",
    "            return None\n",
    "        if not self.stack2:\n",
    "            while self.stack1:\n",
    "                self.stack2.append(self.stack1.pop())\n",
    "        return self.stack2.pop()\n",
    "\n",
    "    def peek(self):\n",
    "        if self.is_empty():\n",
    "            print(\"Queue Underflow\")\n",
    "            return None\n",
    "        if not self.stack2:\n",
    "            while self.stack1:\n",
    "                self.stack2.append(self.stack1.pop())\n",
    "        return self.stack2[-1]\n",
    "\n",
    "    def display(self):\n",
    "        temp = self.stack2[::-1] + self.stack1\n",
    "        print(\"Queue:\", temp)\n",
    "\n",
    "q = QueueUsingStacks()\n",
    "while True:\n",
    "    print(\"\\n1. Enqueue\\n2. Dequeue\\n3. Peek\\n4. Display\\n5. Exit\")\n",
    "    ch = int(input(\"Enter your choice: \"))\n",
    "    if ch == 1:\n",
    "        num = int(input(\"Enter data: \"))\n",
    "        q.enqueue(num)\n",
    "    elif ch == 2:\n",
    "        val = q.dequeue()\n",
    "        if val is not None:\n",
    "            print(\"Dequeued:\", val)\n",
    "    elif ch == 3:\n",
    "        val = q.peek()\n",
    "        if val is not None:\n",
    "            print(\"Front item:\", val)\n",
    "    elif ch == 4:\n",
    "        q.display()\n",
    "    elif ch == 5:\n",
    "        print(\"Quitting...\")\n",
    "        break\n",
    "    else:\n",
    "        print(\"Invalid choice\")\n"
   ]
  },
  {
   "cell_type": "code",
   "execution_count": 5,
   "id": "d0096751-3edb-4dfa-a94d-3915b8761303",
   "metadata": {},
   "outputs": [
    {
     "name": "stdout",
     "output_type": "stream",
     "text": [
      "\n",
      "Program to reverse a queue using recursion\n",
      "1. Enqueue\n",
      "2. Dequeue\n",
      "3. Peek\n",
      "4. Display\n",
      "5. Reverse Queue\n",
      "6. Exit\n"
     ]
    },
    {
     "name": "stdin",
     "output_type": "stream",
     "text": [
      "Enter your choice:  1\n",
      "Enter the data:  22\n"
     ]
    },
    {
     "name": "stdout",
     "output_type": "stream",
     "text": [
      "\n",
      "Program to reverse a queue using recursion\n",
      "1. Enqueue\n",
      "2. Dequeue\n",
      "3. Peek\n",
      "4. Display\n",
      "5. Reverse Queue\n",
      "6. Exit\n"
     ]
    },
    {
     "name": "stdin",
     "output_type": "stream",
     "text": [
      "Enter your choice:  1\n",
      "Enter the data:  33\n"
     ]
    },
    {
     "name": "stdout",
     "output_type": "stream",
     "text": [
      "\n",
      "Program to reverse a queue using recursion\n",
      "1. Enqueue\n",
      "2. Dequeue\n",
      "3. Peek\n",
      "4. Display\n",
      "5. Reverse Queue\n",
      "6. Exit\n"
     ]
    },
    {
     "name": "stdin",
     "output_type": "stream",
     "text": [
      "Enter your choice:  1\n",
      "Enter the data:  44\n"
     ]
    },
    {
     "name": "stdout",
     "output_type": "stream",
     "text": [
      "\n",
      "Program to reverse a queue using recursion\n",
      "1. Enqueue\n",
      "2. Dequeue\n",
      "3. Peek\n",
      "4. Display\n",
      "5. Reverse Queue\n",
      "6. Exit\n"
     ]
    },
    {
     "name": "stdin",
     "output_type": "stream",
     "text": [
      "Enter your choice:  1\n",
      "Enter the data:  55\n"
     ]
    },
    {
     "name": "stdout",
     "output_type": "stream",
     "text": [
      "\n",
      "Program to reverse a queue using recursion\n",
      "1. Enqueue\n",
      "2. Dequeue\n",
      "3. Peek\n",
      "4. Display\n",
      "5. Reverse Queue\n",
      "6. Exit\n"
     ]
    },
    {
     "name": "stdin",
     "output_type": "stream",
     "text": [
      "Enter your choice:  2\n"
     ]
    },
    {
     "name": "stdout",
     "output_type": "stream",
     "text": [
      "Dequeued: 22\n",
      "\n",
      "Program to reverse a queue using recursion\n",
      "1. Enqueue\n",
      "2. Dequeue\n",
      "3. Peek\n",
      "4. Display\n",
      "5. Reverse Queue\n",
      "6. Exit\n"
     ]
    },
    {
     "name": "stdin",
     "output_type": "stream",
     "text": [
      "Enter your choice:  3\n"
     ]
    },
    {
     "name": "stdout",
     "output_type": "stream",
     "text": [
      "Front item: 33\n",
      "\n",
      "Program to reverse a queue using recursion\n",
      "1. Enqueue\n",
      "2. Dequeue\n",
      "3. Peek\n",
      "4. Display\n",
      "5. Reverse Queue\n",
      "6. Exit\n"
     ]
    },
    {
     "name": "stdin",
     "output_type": "stream",
     "text": [
      "Enter your choice:  4\n"
     ]
    },
    {
     "name": "stdout",
     "output_type": "stream",
     "text": [
      "33 -> 44 -> 55 -> None\n",
      "\n",
      "Program to reverse a queue using recursion\n",
      "1. Enqueue\n",
      "2. Dequeue\n",
      "3. Peek\n",
      "4. Display\n",
      "5. Reverse Queue\n",
      "6. Exit\n"
     ]
    },
    {
     "name": "stdin",
     "output_type": "stream",
     "text": [
      "Enter your choice:  5\n"
     ]
    },
    {
     "name": "stdout",
     "output_type": "stream",
     "text": [
      "Queue reversed.\n",
      "\n",
      "Program to reverse a queue using recursion\n",
      "1. Enqueue\n",
      "2. Dequeue\n",
      "3. Peek\n",
      "4. Display\n",
      "5. Reverse Queue\n",
      "6. Exit\n"
     ]
    },
    {
     "name": "stdin",
     "output_type": "stream",
     "text": [
      "Enter your choice:  4\n"
     ]
    },
    {
     "name": "stdout",
     "output_type": "stream",
     "text": [
      "55 -> 44 -> 33 -> None\n",
      "\n",
      "Program to reverse a queue using recursion\n",
      "1. Enqueue\n",
      "2. Dequeue\n",
      "3. Peek\n",
      "4. Display\n",
      "5. Reverse Queue\n",
      "6. Exit\n"
     ]
    },
    {
     "name": "stdin",
     "output_type": "stream",
     "text": [
      "Enter your choice:  6\n"
     ]
    },
    {
     "name": "stdout",
     "output_type": "stream",
     "text": [
      "Exiting...\n"
     ]
    }
   ],
   "source": [
    "# 2 . Reverse a Queue Using Recursion:\n",
    "class Node:\n",
    "    def __init__(self, data):\n",
    "        self.data = data\n",
    "        self.next = None\n",
    "\n",
    "class LinkedQueue:\n",
    "    def __init__(self):\n",
    "        self.front = None\n",
    "        self.rear = None\n",
    "\n",
    "    def isempty(self):\n",
    "        return self.front is None\n",
    "\n",
    "    def enqueue(self, data):\n",
    "        newNode = Node(data)\n",
    "        if self.rear is None:\n",
    "            self.front = self.rear = newNode\n",
    "        else:\n",
    "            self.rear.next = newNode\n",
    "            self.rear = newNode\n",
    "\n",
    "    def dequeue(self):\n",
    "        if self.isempty():\n",
    "            print(\"Queue Underflow\")\n",
    "            return None\n",
    "        data = self.front.data\n",
    "        self.front = self.front.next\n",
    "        if self.front is None:\n",
    "            self.rear = None\n",
    "        return data\n",
    "\n",
    "    def peek(self):\n",
    "        if self.isempty():\n",
    "            print(\"Queue Underflow\")\n",
    "            return None\n",
    "        return self.front.data\n",
    "\n",
    "    def display(self):\n",
    "        if self.isempty():\n",
    "            print(\"Queue is empty\")\n",
    "            return\n",
    "        temp = self.front\n",
    "        while temp:\n",
    "            print(temp.data, end=\" -> \")\n",
    "            temp = temp.next\n",
    "        print(\"None\")\n",
    "\n",
    "    def reverse(self):\n",
    "        if self.isempty():\n",
    "            return\n",
    "        data = self.dequeue()\n",
    "        self.reverse()\n",
    "        self.enqueue(data)\n",
    "\n",
    "# Menu-driven program\n",
    "q = LinkedQueue()\n",
    "\n",
    "while True:\n",
    "    print(\"\\nProgram to reverse a queue using recursion\")\n",
    "    print(\"1. Enqueue\")\n",
    "    print(\"2. Dequeue\")\n",
    "    print(\"3. Peek\")\n",
    "    print(\"4. Display\")\n",
    "    print(\"5. Reverse Queue\")\n",
    "    print(\"6. Exit\")\n",
    "    choice = int(input(\"Enter your choice: \"))\n",
    "    \n",
    "    if choice == 1:\n",
    "        num = int(input(\"Enter the data: \"))\n",
    "        q.enqueue(num)\n",
    "    elif choice == 2:\n",
    "        val = q.dequeue()\n",
    "        if val is not None:\n",
    "            print(\"Dequeued:\", val)\n",
    "    elif choice == 3:\n",
    "        val = q.peek()\n",
    "        if val is not None:\n",
    "            print(\"Front item:\", val)\n",
    "    elif choice == 4:\n",
    "        q.display()\n",
    "    elif choice == 5:\n",
    "        q.reverse()\n",
    "        print(\"Queue reversed.\")\n",
    "    elif choice == 6:\n",
    "        print(\"Exiting...\")\n",
    "        break\n",
    "    else:\n",
    "        print(\"Invalid choice, try again.\")\n"
   ]
  },
  {
   "cell_type": "code",
   "execution_count": 7,
   "id": "3f23499b-16e3-40e0-a265-40d923de4ef0",
   "metadata": {},
   "outputs": [
    {
     "name": "stdout",
     "output_type": "stream",
     "text": [
      "\n",
      "Queue with max() operation\n",
      "1. Enqueue\n",
      "2. Dequeue\n",
      "3. Peek\n",
      "4. Display\n",
      "5. Get Max\n",
      "6. Exit\n"
     ]
    },
    {
     "name": "stdin",
     "output_type": "stream",
     "text": [
      "Enter your choice:  1\n",
      "Enter data:  11\n"
     ]
    },
    {
     "name": "stdout",
     "output_type": "stream",
     "text": [
      "\n",
      "Queue with max() operation\n",
      "1. Enqueue\n",
      "2. Dequeue\n",
      "3. Peek\n",
      "4. Display\n",
      "5. Get Max\n",
      "6. Exit\n"
     ]
    },
    {
     "name": "stdin",
     "output_type": "stream",
     "text": [
      "Enter your choice:  22\n"
     ]
    },
    {
     "name": "stdout",
     "output_type": "stream",
     "text": [
      "Invalid choice, try again.\n",
      "\n",
      "Queue with max() operation\n",
      "1. Enqueue\n",
      "2. Dequeue\n",
      "3. Peek\n",
      "4. Display\n",
      "5. Get Max\n",
      "6. Exit\n"
     ]
    },
    {
     "name": "stdin",
     "output_type": "stream",
     "text": [
      "Enter your choice:  1\n",
      "Enter data:  22\n"
     ]
    },
    {
     "name": "stdout",
     "output_type": "stream",
     "text": [
      "\n",
      "Queue with max() operation\n",
      "1. Enqueue\n",
      "2. Dequeue\n",
      "3. Peek\n",
      "4. Display\n",
      "5. Get Max\n",
      "6. Exit\n"
     ]
    },
    {
     "name": "stdin",
     "output_type": "stream",
     "text": [
      "Enter your choice:  1\n",
      "Enter data:  33\n"
     ]
    },
    {
     "name": "stdout",
     "output_type": "stream",
     "text": [
      "\n",
      "Queue with max() operation\n",
      "1. Enqueue\n",
      "2. Dequeue\n",
      "3. Peek\n",
      "4. Display\n",
      "5. Get Max\n",
      "6. Exit\n"
     ]
    },
    {
     "name": "stdin",
     "output_type": "stream",
     "text": [
      "Enter your choice:  1\n",
      "Enter data:  44\n"
     ]
    },
    {
     "name": "stdout",
     "output_type": "stream",
     "text": [
      "\n",
      "Queue with max() operation\n",
      "1. Enqueue\n",
      "2. Dequeue\n",
      "3. Peek\n",
      "4. Display\n",
      "5. Get Max\n",
      "6. Exit\n"
     ]
    },
    {
     "name": "stdin",
     "output_type": "stream",
     "text": [
      "Enter your choice:  2\n"
     ]
    },
    {
     "name": "stdout",
     "output_type": "stream",
     "text": [
      "Dequeued: 11\n",
      "\n",
      "Queue with max() operation\n",
      "1. Enqueue\n",
      "2. Dequeue\n",
      "3. Peek\n",
      "4. Display\n",
      "5. Get Max\n",
      "6. Exit\n"
     ]
    },
    {
     "name": "stdin",
     "output_type": "stream",
     "text": [
      "Enter your choice:  3\n"
     ]
    },
    {
     "name": "stdout",
     "output_type": "stream",
     "text": [
      "Front item: 22\n",
      "\n",
      "Queue with max() operation\n",
      "1. Enqueue\n",
      "2. Dequeue\n",
      "3. Peek\n",
      "4. Display\n",
      "5. Get Max\n",
      "6. Exit\n"
     ]
    },
    {
     "name": "stdin",
     "output_type": "stream",
     "text": [
      "Enter your choice:  4\n"
     ]
    },
    {
     "name": "stdout",
     "output_type": "stream",
     "text": [
      "Queue: [22, 33, 44]\n",
      "\n",
      "Queue with max() operation\n",
      "1. Enqueue\n",
      "2. Dequeue\n",
      "3. Peek\n",
      "4. Display\n",
      "5. Get Max\n",
      "6. Exit\n"
     ]
    },
    {
     "name": "stdin",
     "output_type": "stream",
     "text": [
      "Enter your choice:  5\n"
     ]
    },
    {
     "name": "stdout",
     "output_type": "stream",
     "text": [
      "Max element: 44\n",
      "\n",
      "Queue with max() operation\n",
      "1. Enqueue\n",
      "2. Dequeue\n",
      "3. Peek\n",
      "4. Display\n",
      "5. Get Max\n",
      "6. Exit\n"
     ]
    },
    {
     "name": "stdin",
     "output_type": "stream",
     "text": [
      "Enter your choice:  6\n"
     ]
    },
    {
     "name": "stdout",
     "output_type": "stream",
     "text": [
      "Exiting...\n"
     ]
    }
   ],
   "source": [
    "# 3. Design a Queue that Supports max() Operation:\n",
    "class MaxQueue:\n",
    "    def __init__(self):\n",
    "        self.queue = []\n",
    "        self.max_queue = []  # stores potential max elements\n",
    "\n",
    "    def isempty(self):\n",
    "        return len(self.queue) == 0\n",
    "\n",
    "    def enqueue(self, x):\n",
    "        self.queue.append(x)\n",
    "        while self.max_queue and self.max_queue[-1] < x:\n",
    "            self.max_queue.pop()\n",
    "        self.max_queue.append(x)\n",
    "\n",
    "    def dequeue(self):\n",
    "        if self.isempty():\n",
    "            print(\"Queue Underflow\")\n",
    "            return None\n",
    "        val = self.queue.pop(0)\n",
    "        if val == self.max_queue[0]:\n",
    "            self.max_queue.pop(0)\n",
    "        return val\n",
    "\n",
    "    def peek(self):\n",
    "        if self.isempty():\n",
    "            print(\"Queue Underflow\")\n",
    "            return None\n",
    "        return self.queue[0]\n",
    "\n",
    "    def get_max(self):\n",
    "        if self.isempty():\n",
    "            print(\"Queue is empty, no max\")\n",
    "            return None\n",
    "        return self.max_queue[0]\n",
    "\n",
    "    def display(self):\n",
    "        if self.isempty():\n",
    "            print(\"Queue is empty\")\n",
    "        else:\n",
    "            print(\"Queue:\", self.queue)\n",
    "\n",
    "# Menu-driven program\n",
    "q = MaxQueue()\n",
    "\n",
    "while True:\n",
    "    print(\"\\nQueue with max() operation\")\n",
    "    print(\"1. Enqueue\")\n",
    "    print(\"2. Dequeue\")\n",
    "    print(\"3. Peek\")\n",
    "    print(\"4. Display\")\n",
    "    print(\"5. Get Max\")\n",
    "    print(\"6. Exit\")\n",
    "    choice = int(input(\"Enter your choice: \"))\n",
    "\n",
    "    if choice == 1:\n",
    "        num = int(input(\"Enter data: \"))\n",
    "        q.enqueue(num)\n",
    "    elif choice == 2:\n",
    "        val = q.dequeue()\n",
    "        if val is not None:\n",
    "            print(\"Dequeued:\", val)\n",
    "    elif choice == 3:\n",
    "        val = q.peek()\n",
    "        if val is not None:\n",
    "            print(\"Front item:\", val)\n",
    "    elif choice == 4:\n",
    "        q.display()\n",
    "    elif choice == 5:\n",
    "        max_val = q.get_max()\n",
    "        if max_val is not None:\n",
    "            print(\"Max element:\", max_val)\n",
    "    elif choice == 6:\n",
    "        print(\"Exiting...\")\n",
    "        break\n",
    "    else:\n",
    "        print(\"Invalid choice, try again.\")\n"
   ]
  },
  {
   "cell_type": "code",
   "execution_count": 9,
   "id": "362bca0b-a515-4caf-9ade-579e16ff7eb4",
   "metadata": {},
   "outputs": [
    {
     "name": "stdout",
     "output_type": "stream",
     "text": [
      "\n",
      "Merge Two Queues Alternately\n",
      "1. Enqueue to Queue 1\n",
      "2. Enqueue to Queue 2\n",
      "3. Display Queue 1\n",
      "4. Display Queue 2\n",
      "5. Merge Queues\n",
      "6. Display Merged Queue\n",
      "7. Exit\n"
     ]
    },
    {
     "name": "stdin",
     "output_type": "stream",
     "text": [
      "Enter your choice:  1\n",
      "Enter data for Queue 1:  11\n"
     ]
    },
    {
     "name": "stdout",
     "output_type": "stream",
     "text": [
      "\n",
      "Merge Two Queues Alternately\n",
      "1. Enqueue to Queue 1\n",
      "2. Enqueue to Queue 2\n",
      "3. Display Queue 1\n",
      "4. Display Queue 2\n",
      "5. Merge Queues\n",
      "6. Display Merged Queue\n",
      "7. Exit\n"
     ]
    },
    {
     "name": "stdin",
     "output_type": "stream",
     "text": [
      "Enter your choice:  1\n",
      "Enter data for Queue 1:  22\n"
     ]
    },
    {
     "name": "stdout",
     "output_type": "stream",
     "text": [
      "\n",
      "Merge Two Queues Alternately\n",
      "1. Enqueue to Queue 1\n",
      "2. Enqueue to Queue 2\n",
      "3. Display Queue 1\n",
      "4. Display Queue 2\n",
      "5. Merge Queues\n",
      "6. Display Merged Queue\n",
      "7. Exit\n"
     ]
    },
    {
     "name": "stdin",
     "output_type": "stream",
     "text": [
      "Enter your choice:  1\n",
      "Enter data for Queue 1:  33\n"
     ]
    },
    {
     "name": "stdout",
     "output_type": "stream",
     "text": [
      "\n",
      "Merge Two Queues Alternately\n",
      "1. Enqueue to Queue 1\n",
      "2. Enqueue to Queue 2\n",
      "3. Display Queue 1\n",
      "4. Display Queue 2\n",
      "5. Merge Queues\n",
      "6. Display Merged Queue\n",
      "7. Exit\n"
     ]
    },
    {
     "name": "stdin",
     "output_type": "stream",
     "text": [
      "Enter your choice:  2\n",
      "Enter data for Queue 2:  99\n"
     ]
    },
    {
     "name": "stdout",
     "output_type": "stream",
     "text": [
      "\n",
      "Merge Two Queues Alternately\n",
      "1. Enqueue to Queue 1\n",
      "2. Enqueue to Queue 2\n",
      "3. Display Queue 1\n",
      "4. Display Queue 2\n",
      "5. Merge Queues\n",
      "6. Display Merged Queue\n",
      "7. Exit\n"
     ]
    },
    {
     "name": "stdin",
     "output_type": "stream",
     "text": [
      "Enter your choice:  2\n",
      "Enter data for Queue 2:  88\n"
     ]
    },
    {
     "name": "stdout",
     "output_type": "stream",
     "text": [
      "\n",
      "Merge Two Queues Alternately\n",
      "1. Enqueue to Queue 1\n",
      "2. Enqueue to Queue 2\n",
      "3. Display Queue 1\n",
      "4. Display Queue 2\n",
      "5. Merge Queues\n",
      "6. Display Merged Queue\n",
      "7. Exit\n"
     ]
    },
    {
     "name": "stdin",
     "output_type": "stream",
     "text": [
      "Enter your choice:  2\n",
      "Enter data for Queue 2:  77\n"
     ]
    },
    {
     "name": "stdout",
     "output_type": "stream",
     "text": [
      "\n",
      "Merge Two Queues Alternately\n",
      "1. Enqueue to Queue 1\n",
      "2. Enqueue to Queue 2\n",
      "3. Display Queue 1\n",
      "4. Display Queue 2\n",
      "5. Merge Queues\n",
      "6. Display Merged Queue\n",
      "7. Exit\n"
     ]
    },
    {
     "name": "stdin",
     "output_type": "stream",
     "text": [
      "Enter your choice:  3\n"
     ]
    },
    {
     "name": "stdout",
     "output_type": "stream",
     "text": [
      "Queue 1:\n",
      "Queue: [11, 22, 33]\n",
      "\n",
      "Merge Two Queues Alternately\n",
      "1. Enqueue to Queue 1\n",
      "2. Enqueue to Queue 2\n",
      "3. Display Queue 1\n",
      "4. Display Queue 2\n",
      "5. Merge Queues\n",
      "6. Display Merged Queue\n",
      "7. Exit\n"
     ]
    },
    {
     "name": "stdin",
     "output_type": "stream",
     "text": [
      "Enter your choice:  4\n"
     ]
    },
    {
     "name": "stdout",
     "output_type": "stream",
     "text": [
      "Queue 2:\n",
      "Queue: [99, 88, 77]\n",
      "\n",
      "Merge Two Queues Alternately\n",
      "1. Enqueue to Queue 1\n",
      "2. Enqueue to Queue 2\n",
      "3. Display Queue 1\n",
      "4. Display Queue 2\n",
      "5. Merge Queues\n",
      "6. Display Merged Queue\n",
      "7. Exit\n"
     ]
    },
    {
     "name": "stdin",
     "output_type": "stream",
     "text": [
      "Enter your choice:  5\n"
     ]
    },
    {
     "name": "stdout",
     "output_type": "stream",
     "text": [
      "Queues merged successfully.\n",
      "\n",
      "Merge Two Queues Alternately\n",
      "1. Enqueue to Queue 1\n",
      "2. Enqueue to Queue 2\n",
      "3. Display Queue 1\n",
      "4. Display Queue 2\n",
      "5. Merge Queues\n",
      "6. Display Merged Queue\n",
      "7. Exit\n"
     ]
    },
    {
     "name": "stdin",
     "output_type": "stream",
     "text": [
      "Enter your choice:  6\n"
     ]
    },
    {
     "name": "stdout",
     "output_type": "stream",
     "text": [
      "Merged Queue:\n",
      "Queue: [11, 99, 22, 88, 33, 77]\n",
      "\n",
      "Merge Two Queues Alternately\n",
      "1. Enqueue to Queue 1\n",
      "2. Enqueue to Queue 2\n",
      "3. Display Queue 1\n",
      "4. Display Queue 2\n",
      "5. Merge Queues\n",
      "6. Display Merged Queue\n",
      "7. Exit\n"
     ]
    },
    {
     "name": "stdin",
     "output_type": "stream",
     "text": [
      "Enter your choice:  7\n"
     ]
    },
    {
     "name": "stdout",
     "output_type": "stream",
     "text": [
      "Exiting...\n"
     ]
    }
   ],
   "source": [
    "# 4. Merge Two Queues:\n",
    "class Queue:\n",
    "    def __init__(self):\n",
    "        self.items = []\n",
    "\n",
    "    def enqueue(self, data):\n",
    "        self.items.append(data)\n",
    "\n",
    "    def dequeue(self):\n",
    "        if self.isempty():\n",
    "            return None\n",
    "        return self.items.pop(0)\n",
    "\n",
    "    def isempty(self):\n",
    "        return len(self.items) == 0\n",
    "\n",
    "    def display(self):\n",
    "        if self.isempty():\n",
    "            print(\"Queue is empty\")\n",
    "        else:\n",
    "            print(\"Queue:\", self.items)\n",
    "\n",
    "def merge_queues(q1, q2):\n",
    "    merged = Queue()\n",
    "    while not q1.isempty() or not q2.isempty():\n",
    "        if not q1.isempty():\n",
    "            merged.enqueue(q1.dequeue())\n",
    "        if not q2.isempty():\n",
    "            merged.enqueue(q2.dequeue())\n",
    "    return merged\n",
    "\n",
    "# Menu-driven for two queues\n",
    "q1 = Queue()\n",
    "q2 = Queue()\n",
    "merged = None\n",
    "\n",
    "while True:\n",
    "    print(\"\\nMerge Two Queues Alternately\")\n",
    "    print(\"1. Enqueue to Queue 1\")\n",
    "    print(\"2. Enqueue to Queue 2\")\n",
    "    print(\"3. Display Queue 1\")\n",
    "    print(\"4. Display Queue 2\")\n",
    "    print(\"5. Merge Queues\")\n",
    "    print(\"6. Display Merged Queue\")\n",
    "    print(\"7. Exit\")\n",
    "    \n",
    "    choice = int(input(\"Enter your choice: \"))\n",
    "\n",
    "    if choice == 1:\n",
    "        num = int(input(\"Enter data for Queue 1: \"))\n",
    "        q1.enqueue(num)\n",
    "    elif choice == 2:\n",
    "        num = int(input(\"Enter data for Queue 2: \"))\n",
    "        q2.enqueue(num)\n",
    "    elif choice == 3:\n",
    "        print(\"Queue 1:\")\n",
    "        q1.display()\n",
    "    elif choice == 4:\n",
    "        print(\"Queue 2:\")\n",
    "        q2.display()\n",
    "    elif choice == 5:\n",
    "        merged = merge_queues(q1, q2)\n",
    "        print(\"Queues merged successfully.\")\n",
    "    elif choice == 6:\n",
    "        if merged:\n",
    "            print(\"Merged Queue:\")\n",
    "            merged.display()\n",
    "        else:\n",
    "            print(\"You need to merge the queues first.\")\n",
    "    elif choice == 7:\n",
    "        print(\"Exiting...\")\n",
    "        break\n",
    "    else:\n",
    "        print(\"Invalid choice, try again.\")\n"
   ]
  },
  {
   "cell_type": "code",
   "execution_count": 11,
   "id": "067840b0-ee18-4f05-a66d-da7cd9624eb8",
   "metadata": {},
   "outputs": [
    {
     "name": "stdout",
     "output_type": "stream",
     "text": [
      "\n",
      "Program to reverse words in a sentence using a queue\n",
      "1. Input a sentence\n",
      "2. Display queue\n",
      "3. Reverse words\n",
      "4. Display reversed sentence\n",
      "5. Exit\n"
     ]
    },
    {
     "name": "stdin",
     "output_type": "stream",
     "text": [
      "Enter your choice:  1\n",
      "Enter a sentence:  I love my self\n"
     ]
    },
    {
     "name": "stdout",
     "output_type": "stream",
     "text": [
      "Words enqueued.\n",
      "\n",
      "Program to reverse words in a sentence using a queue\n",
      "1. Input a sentence\n",
      "2. Display queue\n",
      "3. Reverse words\n",
      "4. Display reversed sentence\n",
      "5. Exit\n"
     ]
    },
    {
     "name": "stdin",
     "output_type": "stream",
     "text": [
      "Enter your choice:  2\n"
     ]
    },
    {
     "name": "stdout",
     "output_type": "stream",
     "text": [
      "Queue (Words): ['I', 'love', 'my', 'self']\n",
      "\n",
      "Program to reverse words in a sentence using a queue\n",
      "1. Input a sentence\n",
      "2. Display queue\n",
      "3. Reverse words\n",
      "4. Display reversed sentence\n",
      "5. Exit\n"
     ]
    },
    {
     "name": "stdin",
     "output_type": "stream",
     "text": [
      "Enter your choice:  3\n"
     ]
    },
    {
     "name": "stdout",
     "output_type": "stream",
     "text": [
      "Words reversed.\n",
      "\n",
      "Program to reverse words in a sentence using a queue\n",
      "1. Input a sentence\n",
      "2. Display queue\n",
      "3. Reverse words\n",
      "4. Display reversed sentence\n",
      "5. Exit\n"
     ]
    },
    {
     "name": "stdin",
     "output_type": "stream",
     "text": [
      "Enter your choice:  4\n"
     ]
    },
    {
     "name": "stdout",
     "output_type": "stream",
     "text": [
      "Reversed sentence: self my love I\n",
      "\n",
      "Program to reverse words in a sentence using a queue\n",
      "1. Input a sentence\n",
      "2. Display queue\n",
      "3. Reverse words\n",
      "4. Display reversed sentence\n",
      "5. Exit\n"
     ]
    },
    {
     "name": "stdin",
     "output_type": "stream",
     "text": [
      "Enter your choice:  5\n"
     ]
    },
    {
     "name": "stdout",
     "output_type": "stream",
     "text": [
      "Exiting...\n"
     ]
    }
   ],
   "source": [
    "# 5. Implement a Queue with Count of Specific Element:\n",
    "class WordQueue:\n",
    "    def __init__(self):\n",
    "        self.queue = []\n",
    "\n",
    "    def enqueue(self, word):\n",
    "        self.queue.append(word)\n",
    "\n",
    "    def dequeue(self):\n",
    "        if self.isempty():\n",
    "            return None\n",
    "        return self.queue.pop(0)\n",
    "\n",
    "    def isempty(self):\n",
    "        return len(self.queue) == 0\n",
    "\n",
    "    def display(self):\n",
    "        print(\"Queue (Words):\", self.queue)\n",
    "\n",
    "    def reverse(self):\n",
    "        self.queue.reverse()\n",
    "\n",
    "    def get_sentence(self):\n",
    "        return ' '.join(self.queue)\n",
    "\n",
    "# Menu-driven program\n",
    "q = WordQueue()\n",
    "\n",
    "while True:\n",
    "    print(\"\\nProgram to reverse words in a sentence using a queue\")\n",
    "    print(\"1. Input a sentence\")\n",
    "    print(\"2. Display queue\")\n",
    "    print(\"3. Reverse words\")\n",
    "    print(\"4. Display reversed sentence\")\n",
    "    print(\"5. Exit\")\n",
    "\n",
    "    choice = int(input(\"Enter your choice: \"))\n",
    "\n",
    "    if choice == 1:\n",
    "        sentence = input(\"Enter a sentence: \")\n",
    "        q = WordQueue()  # reset queue\n",
    "        for word in sentence.strip().split():\n",
    "            q.enqueue(word)\n",
    "        print(\"Words enqueued.\")\n",
    "    elif choice == 2:\n",
    "        q.display()\n",
    "    elif choice == 3:\n",
    "        q.reverse()\n",
    "        print(\"Words reversed.\")\n",
    "    elif choice == 4:\n",
    "        print(\"Reversed sentence:\", q.get_sentence())\n",
    "    elif choice == 5:\n",
    "        print(\"Exiting...\")\n",
    "        break\n",
    "    else:\n",
    "        print(\"Invalid choice, try again.\")\n"
   ]
  },
  {
   "cell_type": "code",
   "execution_count": 13,
   "id": "c3d91f34-261e-4bd5-9f29-c213e1a253a2",
   "metadata": {},
   "outputs": [
    {
     "name": "stdout",
     "output_type": "stream",
     "text": [
      "\n",
      "Queue with contains(x) operation\n",
      "1. Enqueue\n",
      "2. Dequeue\n",
      "3. Peek\n",
      "4. Display\n",
      "5. Check if element exists (contains)\n",
      "6. Exit\n"
     ]
    },
    {
     "name": "stdin",
     "output_type": "stream",
     "text": [
      "Enter your choice:  1\n",
      "Enter data:  22\n"
     ]
    },
    {
     "name": "stdout",
     "output_type": "stream",
     "text": [
      "\n",
      "Queue with contains(x) operation\n",
      "1. Enqueue\n",
      "2. Dequeue\n",
      "3. Peek\n",
      "4. Display\n",
      "5. Check if element exists (contains)\n",
      "6. Exit\n"
     ]
    },
    {
     "name": "stdin",
     "output_type": "stream",
     "text": [
      "Enter your choice:  1\n",
      "Enter data:  33\n"
     ]
    },
    {
     "name": "stdout",
     "output_type": "stream",
     "text": [
      "\n",
      "Queue with contains(x) operation\n",
      "1. Enqueue\n",
      "2. Dequeue\n",
      "3. Peek\n",
      "4. Display\n",
      "5. Check if element exists (contains)\n",
      "6. Exit\n"
     ]
    },
    {
     "name": "stdin",
     "output_type": "stream",
     "text": [
      "Enter your choice:  1\n",
      "Enter data:  44\n"
     ]
    },
    {
     "name": "stdout",
     "output_type": "stream",
     "text": [
      "\n",
      "Queue with contains(x) operation\n",
      "1. Enqueue\n",
      "2. Dequeue\n",
      "3. Peek\n",
      "4. Display\n",
      "5. Check if element exists (contains)\n",
      "6. Exit\n"
     ]
    },
    {
     "name": "stdin",
     "output_type": "stream",
     "text": [
      "Enter your choice:  2\n"
     ]
    },
    {
     "name": "stdout",
     "output_type": "stream",
     "text": [
      "Dequeued: 22\n",
      "\n",
      "Queue with contains(x) operation\n",
      "1. Enqueue\n",
      "2. Dequeue\n",
      "3. Peek\n",
      "4. Display\n",
      "5. Check if element exists (contains)\n",
      "6. Exit\n"
     ]
    },
    {
     "name": "stdin",
     "output_type": "stream",
     "text": [
      "Enter your choice:  3\n"
     ]
    },
    {
     "name": "stdout",
     "output_type": "stream",
     "text": [
      "Front item: 33\n",
      "\n",
      "Queue with contains(x) operation\n",
      "1. Enqueue\n",
      "2. Dequeue\n",
      "3. Peek\n",
      "4. Display\n",
      "5. Check if element exists (contains)\n",
      "6. Exit\n"
     ]
    },
    {
     "name": "stdin",
     "output_type": "stream",
     "text": [
      "Enter your choice:  4\n"
     ]
    },
    {
     "name": "stdout",
     "output_type": "stream",
     "text": [
      "Queue: [33, 44]\n",
      "\n",
      "Queue with contains(x) operation\n",
      "1. Enqueue\n",
      "2. Dequeue\n",
      "3. Peek\n",
      "4. Display\n",
      "5. Check if element exists (contains)\n",
      "6. Exit\n"
     ]
    },
    {
     "name": "stdin",
     "output_type": "stream",
     "text": [
      "Enter your choice:  5\n",
      "Enter element to check:  44\n"
     ]
    },
    {
     "name": "stdout",
     "output_type": "stream",
     "text": [
      "44 exists in the queue.\n",
      "\n",
      "Queue with contains(x) operation\n",
      "1. Enqueue\n",
      "2. Dequeue\n",
      "3. Peek\n",
      "4. Display\n",
      "5. Check if element exists (contains)\n",
      "6. Exit\n"
     ]
    },
    {
     "name": "stdin",
     "output_type": "stream",
     "text": [
      "Enter your choice:  6\n"
     ]
    },
    {
     "name": "stdout",
     "output_type": "stream",
     "text": [
      "Exiting...\n"
     ]
    }
   ],
   "source": [
    "# 6. Implement a Queue to Reverse Words in a Sentence:\n",
    "class CustomQueue:\n",
    "    def __init__(self):\n",
    "        self.queue = []\n",
    "\n",
    "    def enqueue(self, data):\n",
    "        self.queue.append(data)\n",
    "\n",
    "    def dequeue(self):\n",
    "        if self.isempty():\n",
    "            print(\"Queue Underflow\")\n",
    "            return None\n",
    "        return self.queue.pop(0)\n",
    "\n",
    "    def isempty(self):\n",
    "        return len(self.queue) == 0\n",
    "\n",
    "    def peek(self):\n",
    "        if self.isempty():\n",
    "            print(\"Queue Underflow\")\n",
    "            return None\n",
    "        return self.queue[0]\n",
    "\n",
    "    def display(self):\n",
    "        if self.isempty():\n",
    "            print(\"Queue is empty\")\n",
    "        else:\n",
    "            print(\"Queue:\", self.queue)\n",
    "\n",
    "    def contains(self, x):\n",
    "        return x in self.queue\n",
    "\n",
    "# Menu-driven program\n",
    "q = CustomQueue()\n",
    "\n",
    "while True:\n",
    "    print(\"\\nQueue with contains(x) operation\")\n",
    "    print(\"1. Enqueue\")\n",
    "    print(\"2. Dequeue\")\n",
    "    print(\"3. Peek\")\n",
    "    print(\"4. Display\")\n",
    "    print(\"5. Check if element exists (contains)\")\n",
    "    print(\"6. Exit\")\n",
    "\n",
    "    choice = int(input(\"Enter your choice: \"))\n",
    "\n",
    "    if choice == 1:\n",
    "        num = int(input(\"Enter data: \"))\n",
    "        q.enqueue(num)\n",
    "    elif choice == 2:\n",
    "        val = q.dequeue()\n",
    "        if val is not None:\n",
    "            print(\"Dequeued:\", val)\n",
    "    elif choice == 3:\n",
    "        val = q.peek()\n",
    "        if val is not None:\n",
    "            print(\"Front item:\", val)\n",
    "    elif choice == 4:\n",
    "        q.display()\n",
    "    elif choice == 5:\n",
    "        x = int(input(\"Enter element to check: \"))\n",
    "        if q.contains(x):\n",
    "            print(f\"{x} exists in the queue.\")\n",
    "        else:\n",
    "            print(f\"{x} not found in the queue.\")\n",
    "    elif choice == 6:\n",
    "        print(\"Exiting...\")\n",
    "        break\n",
    "    else:\n",
    "        print(\"Invalid choice, try again.\")\n"
   ]
  },
  {
   "cell_type": "code",
   "execution_count": 15,
   "id": "25910163-6bb7-4dcc-b22b-cd514d65512c",
   "metadata": {},
   "outputs": [
    {
     "name": "stdout",
     "output_type": "stream",
     "text": [
      "\n",
      "Queue with contains(x) operation\n",
      "1. Enqueue\n",
      "2. Dequeue\n",
      "3. Peek\n",
      "4. Display\n",
      "5. Check if element exists (contains)\n",
      "6. Exit\n"
     ]
    },
    {
     "name": "stdin",
     "output_type": "stream",
     "text": [
      "Enter your choice:  1\n",
      "Enter data:  1\n"
     ]
    },
    {
     "name": "stdout",
     "output_type": "stream",
     "text": [
      "\n",
      "Queue with contains(x) operation\n",
      "1. Enqueue\n",
      "2. Dequeue\n",
      "3. Peek\n",
      "4. Display\n",
      "5. Check if element exists (contains)\n",
      "6. Exit\n"
     ]
    },
    {
     "name": "stdin",
     "output_type": "stream",
     "text": [
      "Enter your choice:  1\n",
      "Enter data:  2\n"
     ]
    },
    {
     "name": "stdout",
     "output_type": "stream",
     "text": [
      "\n",
      "Queue with contains(x) operation\n",
      "1. Enqueue\n",
      "2. Dequeue\n",
      "3. Peek\n",
      "4. Display\n",
      "5. Check if element exists (contains)\n",
      "6. Exit\n"
     ]
    },
    {
     "name": "stdin",
     "output_type": "stream",
     "text": [
      "Enter your choice:  1\n",
      "Enter data:  3\n"
     ]
    },
    {
     "name": "stdout",
     "output_type": "stream",
     "text": [
      "\n",
      "Queue with contains(x) operation\n",
      "1. Enqueue\n",
      "2. Dequeue\n",
      "3. Peek\n",
      "4. Display\n",
      "5. Check if element exists (contains)\n",
      "6. Exit\n"
     ]
    },
    {
     "name": "stdin",
     "output_type": "stream",
     "text": [
      "Enter your choice:  2\n"
     ]
    },
    {
     "name": "stdout",
     "output_type": "stream",
     "text": [
      "Dequeued: 1\n",
      "\n",
      "Queue with contains(x) operation\n",
      "1. Enqueue\n",
      "2. Dequeue\n",
      "3. Peek\n",
      "4. Display\n",
      "5. Check if element exists (contains)\n",
      "6. Exit\n"
     ]
    },
    {
     "name": "stdin",
     "output_type": "stream",
     "text": [
      "Enter your choice:  3\n"
     ]
    },
    {
     "name": "stdout",
     "output_type": "stream",
     "text": [
      "Front item: 2\n",
      "\n",
      "Queue with contains(x) operation\n",
      "1. Enqueue\n",
      "2. Dequeue\n",
      "3. Peek\n",
      "4. Display\n",
      "5. Check if element exists (contains)\n",
      "6. Exit\n"
     ]
    },
    {
     "name": "stdin",
     "output_type": "stream",
     "text": [
      "Enter your choice:  4\n"
     ]
    },
    {
     "name": "stdout",
     "output_type": "stream",
     "text": [
      "Queue: [2, 3]\n",
      "\n",
      "Queue with contains(x) operation\n",
      "1. Enqueue\n",
      "2. Dequeue\n",
      "3. Peek\n",
      "4. Display\n",
      "5. Check if element exists (contains)\n",
      "6. Exit\n"
     ]
    },
    {
     "name": "stdin",
     "output_type": "stream",
     "text": [
      "Enter your choice:  5\n",
      "Enter element to check:  1\n"
     ]
    },
    {
     "name": "stdout",
     "output_type": "stream",
     "text": [
      "1 not found in the queue.\n",
      "\n",
      "Queue with contains(x) operation\n",
      "1. Enqueue\n",
      "2. Dequeue\n",
      "3. Peek\n",
      "4. Display\n",
      "5. Check if element exists (contains)\n",
      "6. Exit\n"
     ]
    },
    {
     "name": "stdin",
     "output_type": "stream",
     "text": [
      "Enter your choice:  5\n",
      "Enter element to check:  2\n"
     ]
    },
    {
     "name": "stdout",
     "output_type": "stream",
     "text": [
      "2 exists in the queue.\n",
      "\n",
      "Queue with contains(x) operation\n",
      "1. Enqueue\n",
      "2. Dequeue\n",
      "3. Peek\n",
      "4. Display\n",
      "5. Check if element exists (contains)\n",
      "6. Exit\n"
     ]
    },
    {
     "name": "stdin",
     "output_type": "stream",
     "text": [
      "Enter your choice:  6\n"
     ]
    },
    {
     "name": "stdout",
     "output_type": "stream",
     "text": [
      "Exiting...\n"
     ]
    }
   ],
   "source": [
    "# 7. Implement a Queue that Supports contains(x) Operation:\n",
    "class CustomQueue:\n",
    "    def __init__(self):\n",
    "        self.queue = []\n",
    "\n",
    "    def enqueue(self, data):\n",
    "        self.queue.append(data)\n",
    "\n",
    "    def dequeue(self):\n",
    "        if self.isempty():\n",
    "            print(\"Queue Underflow\")\n",
    "            return None\n",
    "        return self.queue.pop(0)\n",
    "\n",
    "    def isempty(self):\n",
    "        return len(self.queue) == 0\n",
    "\n",
    "    def peek(self):\n",
    "        if self.isempty():\n",
    "            print(\"Queue Underflow\")\n",
    "            return None\n",
    "        return self.queue[0]\n",
    "\n",
    "    def display(self):\n",
    "        if self.isempty():\n",
    "            print(\"Queue is empty\")\n",
    "        else:\n",
    "            print(\"Queue:\", self.queue)\n",
    "\n",
    "    def contains(self, x):\n",
    "        return x in self.queue\n",
    "\n",
    "# Menu-driven program\n",
    "q = CustomQueue()\n",
    "\n",
    "while True:\n",
    "    print(\"\\nQueue with contains(x) operation\")\n",
    "    print(\"1. Enqueue\")\n",
    "    print(\"2. Dequeue\")\n",
    "    print(\"3. Peek\")\n",
    "    print(\"4. Display\")\n",
    "    print(\"5. Check if element exists (contains)\")\n",
    "    print(\"6. Exit\")\n",
    "\n",
    "    choice = int(input(\"Enter your choice: \"))\n",
    "\n",
    "    if choice == 1:\n",
    "        num = int(input(\"Enter data: \"))\n",
    "        q.enqueue(num)\n",
    "    elif choice == 2:\n",
    "        val = q.dequeue()\n",
    "        if val is not None:\n",
    "            print(\"Dequeued:\", val)\n",
    "    elif choice == 3:\n",
    "        val = q.peek()\n",
    "        if val is not None:\n",
    "            print(\"Front item:\", val)\n",
    "    elif choice == 4:\n",
    "        q.display()\n",
    "    elif choice == 5:\n",
    "        x = int(input(\"Enter element to check: \"))\n",
    "        if q.contains(x):\n",
    "            print(f\"{x} exists in the queue.\")\n",
    "        else:\n",
    "            print(f\"{x} not found in the queue.\")\n",
    "    elif choice == 6:\n",
    "        print(\"Exiting...\")\n",
    "        break\n",
    "    else:\n",
    "        print(\"Invalid choice, try again.\")\n"
   ]
  },
  {
   "cell_type": "code",
   "execution_count": null,
   "id": "dda44ad4-86e6-4df2-a675-de849749d02c",
   "metadata": {},
   "outputs": [],
   "source": []
  }
 ],
 "metadata": {
  "kernelspec": {
   "display_name": "Python 3 (ipykernel)",
   "language": "python",
   "name": "python3"
  },
  "language_info": {
   "codemirror_mode": {
    "name": "ipython",
    "version": 3
   },
   "file_extension": ".py",
   "mimetype": "text/x-python",
   "name": "python",
   "nbconvert_exporter": "python",
   "pygments_lexer": "ipython3",
   "version": "3.12.4"
  }
 },
 "nbformat": 4,
 "nbformat_minor": 5
}
