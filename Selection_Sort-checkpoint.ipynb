{
 "cells": [
  {
   "cell_type": "markdown",
   "id": "09eaee2a-7a56-4d6d-8b07-973d47df8881",
   "metadata": {},
   "source": [
    "#find the smallest element in selected and that elements interchange with the elements of the first position \n",
    "\n",
    "selection_sort(list)\n",
    "- size=len(list)\n",
    "- for i=0 to size-1, do\n",
    "-  min=list[i]\n",
    "-  posn=i\n",
    "-  for j=0 t size-1, do\n",
    "-  if list[j]<min,then\n",
    "-    min=list[j]\n",
    "-    posn=j\n",
    "if i!=posn:\n",
    " tem=list[i]\n",
    " list[i]=list[pons]\n",
    "list[pons]=temp"
   ]
  },
  {
   "cell_type": "code",
   "execution_count": 4,
   "id": "f080ff82-ea77-487a-84b1-f7dbcecffe3b",
   "metadata": {},
   "outputs": [
    {
     "name": "stdin",
     "output_type": "stream",
     "text": [
      "Enter number of Elements: \n"
     ]
    },
    {
     "ename": "ValueError",
     "evalue": "invalid literal for int() with base 10: ''",
     "output_type": "error",
     "traceback": [
      "\u001b[1;31m---------------------------------------------------------------------------\u001b[0m",
      "\u001b[1;31mValueError\u001b[0m                                Traceback (most recent call last)",
      "Cell \u001b[1;32mIn[4], line 13\u001b[0m\n\u001b[0;32m     10\u001b[0m         \u001b[38;5;28;01mif\u001b[39;00m min_index \u001b[38;5;241m!=\u001b[39m i:\n\u001b[0;32m     11\u001b[0m             \u001b[38;5;28mlist\u001b[39m[i], \u001b[38;5;28mlist\u001b[39m[min_index] \u001b[38;5;241m=\u001b[39m \u001b[38;5;28mlist\u001b[39m[min_index], \u001b[38;5;28mlist\u001b[39m[i]\n\u001b[1;32m---> 13\u001b[0m n \u001b[38;5;241m=\u001b[39m \u001b[38;5;28mint\u001b[39m(\u001b[38;5;28minput\u001b[39m(\u001b[38;5;124m\"\u001b[39m\u001b[38;5;124mEnter number of Elements:\u001b[39m\u001b[38;5;124m\"\u001b[39m))\n\u001b[0;32m     14\u001b[0m l \u001b[38;5;241m=\u001b[39m []\n\u001b[0;32m     15\u001b[0m \u001b[38;5;28;01mfor\u001b[39;00m i \u001b[38;5;129;01min\u001b[39;00m \u001b[38;5;28mrange\u001b[39m(n):\n",
      "\u001b[1;31mValueError\u001b[0m: invalid literal for int() with base 10: ''"
     ]
    }
   ],
   "source": [
    "def selection_sort(list):\n",
    "    size = len(list)\n",
    "    for i in range(size - 1):\n",
    "        min_index = i  # Initialize min_index to the current position\n",
    "        for j in range(i + 1, size):\n",
    "            if list[j] < list[min_index]:\n",
    "                min_index = j  # Update min_index if a smaller element is found\n",
    "\n",
    "        # Swap the found minimum element with the first element of the unsorted part\n",
    "        if min_index != i:\n",
    "            list[i], list[min_index] = list[min_index], list[i]\n",
    "\n",
    "n = int(input(\"Enter number of Elements:\"))\n",
    "l = []\n",
    "for i in range(n):\n",
    "    num = int(input(\"Enter the Elements:\"))\n",
    "    l.append(num)\n",
    "\n",
    "selection_sort(l)\n",
    "print(\"The sorted elements are:\")\n",
    "for i in range(n):\n",
    "    print(l[i], end=\" \")"
   ]
  },
  {
   "cell_type": "code",
   "execution_count": null,
   "id": "4e227ffb-e98a-4f3e-ab20-2fae34f15e33",
   "metadata": {},
   "outputs": [],
   "source": []
  }
 ],
 "metadata": {
  "kernelspec": {
   "display_name": "Python 3 (ipykernel)",
   "language": "python",
   "name": "python3"
  },
  "language_info": {
   "codemirror_mode": {
    "name": "ipython",
    "version": 3
   },
   "file_extension": ".py",
   "mimetype": "text/x-python",
   "name": "python",
   "nbconvert_exporter": "python",
   "pygments_lexer": "ipython3",
   "version": "3.12.7"
  }
 },
 "nbformat": 4,
 "nbformat_minor": 5
}
