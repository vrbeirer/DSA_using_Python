{
 "cells": [
  {
   "cell_type": "code",
   "execution_count": 1,
   "id": "b78496e3-46d6-42b4-bab6-f12741d9e104",
   "metadata": {},
   "outputs": [
    {
     "name": "stdout",
     "output_type": "stream",
     "text": [
      "[1, 3, 12, 0, 0]\n"
     ]
    }
   ],
   "source": [
    "#---- Array practice questions ----\n",
    "\n",
    "# intermidiate level questions\n",
    "# 1: move all zeros to the end \n",
    "\n",
    "def move_zeroes(arr):\n",
    "    result = [num for num in arr if num != 0]\n",
    "    result.extend([0] * arr.count(0))\n",
    "    return result\n",
    "\n",
    "arr = [0, 1, 0, 3, 12]\n",
    "print(move_zeroes(arr))\n"
   ]
  },
  {
   "cell_type": "code",
   "execution_count": 3,
   "id": "30bd40e8-abf6-4b7c-b4ed-1258c98fc095",
   "metadata": {},
   "outputs": [
    {
     "name": "stdout",
     "output_type": "stream",
     "text": [
      "[4, 5, 1, 2, 3]\n"
     ]
    }
   ],
   "source": [
    "# 2: Array rotation\n",
    "\n",
    "def rotate_array(arr, k):\n",
    "    k = k % len(arr)  # Handle cases where k > len(arr)\n",
    "    return arr[-k:] + arr[:-k]  # Slice and concatenate\n",
    "\n",
    "arr = [1, 2, 3, 4, 5]\n",
    "k = 2\n",
    "print(rotate_array(arr, k))\n"
   ]
  },
  {
   "cell_type": "code",
   "execution_count": 5,
   "id": "24a4bf20-e5f1-4978-8212-a862a686add5",
   "metadata": {},
   "outputs": [
    {
     "name": "stdout",
     "output_type": "stream",
     "text": [
      "[24, 12, 8, 6]\n"
     ]
    }
   ],
   "source": [
    "# 3: Product of all elements except itself\n",
    "\n",
    "def product_except_self(arr):\n",
    "    prod = 1\n",
    "    for num in arr:\n",
    "        prod *= num\n",
    "\n",
    "    return [prod // num for num in arr]\n",
    "\n",
    "arr = [1, 2, 3, 4]\n",
    "print(product_except_self(arr))\n"
   ]
  },
  {
   "cell_type": "code",
   "execution_count": 13,
   "id": "fb635200-1eca-419e-b8de-b23250e35eac",
   "metadata": {},
   "outputs": [
    {
     "name": "stdout",
     "output_type": "stream",
     "text": [
      "[0, 1]\n"
     ]
    }
   ],
   "source": [
    "# 4: Two sum problem \n",
    "\n",
    "def two_sum(arr, target):\n",
    "    for i in range(len(arr)):\n",
    "        if target - arr[i] in arr[i+1:]:\n",
    "            return [i, arr.index(target - arr[i], i+1)]\n",
    "\n",
    "arr = [2, 7, 11, 15]\n",
    "target = 9\n",
    "print(two_sum(arr, target))  # Pass both arr and target\n"
   ]
  },
  {
   "cell_type": "code",
   "execution_count": 15,
   "id": "130cdbbe-4653-4517-927f-80d5c055e01f",
   "metadata": {},
   "outputs": [
    {
     "name": "stdout",
     "output_type": "stream",
     "text": [
      "2\n"
     ]
    }
   ],
   "source": [
    "# 5: Minimum number of jumps to reach end \n",
    "\n",
    "def min_jumps(arr):\n",
    "    n = len(arr)\n",
    "    if n <= 1:\n",
    "        return 0  \n",
    "    if arr[0] == 0:\n",
    "        return -1 \n",
    "\n",
    "    jumps = 1\n",
    "    max_reach = arr[0]\n",
    "    steps = arr[0]\n",
    "\n",
    "    for i in range(1, n):\n",
    "        if i == n - 1:\n",
    "            return jumps \n",
    "\n",
    "        max_reach = max(max_reach, i + arr[i]) \n",
    "        steps -= 1  # Use a step\n",
    "\n",
    "        if steps == 0: \n",
    "            jumps += 1\n",
    "            if i >= max_reach:\n",
    "                return -1 \n",
    "            steps = max_reach - i \n",
    "\n",
    "    return -1  \n",
    "\n",
    "arr = [6, 2, 4, 0, 5, 1, 1, 4, 2, 9]\n",
    "print(min_jumps(arr)) \n"
   ]
  },
  {
   "cell_type": "code",
   "execution_count": 17,
   "id": "b328f675-64c5-49ac-a44b-b870e972ed74",
   "metadata": {},
   "outputs": [
    {
     "name": "stdout",
     "output_type": "stream",
     "text": [
      "[0, 0, 1, 1, 2, 2]\n"
     ]
    }
   ],
   "source": [
    "# 6: Sort Colors (Dutch National Flag Problem)\n",
    "\n",
    "def sort_colors(arr):\n",
    "    low, mid, high = 0, 0, len(arr) - 1\n",
    "\n",
    "    while mid <= high:\n",
    "        if arr[mid] == 0: \n",
    "            arr[low], arr[mid] = arr[mid], arr[low]\n",
    "            low += 1\n",
    "            mid += 1\n",
    "        elif arr[mid] == 1: \n",
    "            mid += 1\n",
    "        else:  \n",
    "            arr[mid], arr[high] = arr[high], arr[mid]\n",
    "            high -= 1\n",
    "\n",
    "arr = [2, 0, 2, 1, 1, 0]\n",
    "sort_colors(arr)\n",
    "print(arr)  \n"
   ]
  },
  {
   "cell_type": "code",
   "execution_count": 19,
   "id": "095367e5-0ab5-4d8e-bcd8-491d5436c07e",
   "metadata": {},
   "outputs": [
    {
     "name": "stdout",
     "output_type": "stream",
     "text": [
      "6\n"
     ]
    }
   ],
   "source": [
    "# 7: Trapping rain water\n",
    "\n",
    "def trap_water(arr):\n",
    "    if not arr:\n",
    "        return 0\n",
    "\n",
    "    left, right = 0, len(arr) - 1\n",
    "    left_max, right_max = arr[left], arr[right]\n",
    "    water = 0\n",
    "\n",
    "    while left < right:\n",
    "        if left_max < right_max:\n",
    "            left += 1\n",
    "            left_max = max(left_max, arr[left])\n",
    "            water += max(0, left_max - arr[left])\n",
    "        else:\n",
    "            right -= 1\n",
    "            right_max = max(right_max, arr[right])\n",
    "            water += max(0, right_max - arr[right])\n",
    "\n",
    "    return water\n",
    "\n",
    "arr = [0, 1, 0, 2, 1, 0, 1, 3, 2, 1, 2, 1]\n",
    "print(trap_water(arr))  \n"
   ]
  },
  {
   "cell_type": "code",
   "execution_count": 21,
   "id": "e6f44556-815f-4c39-bf71-2e52363fcdcd",
   "metadata": {},
   "outputs": [
    {
     "name": "stdout",
     "output_type": "stream",
     "text": [
      "Total sales per employee: [4500, 5400, 4300]\n",
      "Total sales per month: [3100, 6300, 4800]\n",
      "Total sales of the organization: 14200\n"
     ]
    }
   ],
   "source": [
    "# Difficult level questions \n",
    "\n",
    "# 1: Total sale of each employee of each month and total sales of the organization\n",
    "\n",
    "def sales_summary(sales):\n",
    "    num_employees = len(sales)\n",
    "    num_months = len(sales[0])\n",
    "    \n",
    "    employee_totals = [sum(emp_sales) for emp_sales in sales]\n",
    "   \n",
    "    month_totals = [sum(sales[i][j] for i in range(num_employees)) for j in range(num_months)]\n",
    "    \n",
    "    total_sales = sum(employee_totals)\n",
    "\n",
    "    return employee_totals, month_totals, total_sales\n",
    "    \n",
    "sales = [\n",
    "    [1000, 2000, 1500],  \n",
    "    [1200, 2500, 1700],  \n",
    "    [900, 1800, 1600] \n",
    "]\n",
    "\n",
    "emp_totals, month_totals, org_total = sales_summary(sales)\n",
    "\n",
    "print(\"Total sales per employee:\", emp_totals)\n",
    "print(\"Total sales per month:\", month_totals)\n",
    "print(\"Total sales of the organization:\", org_total)\n"
   ]
  },
  {
   "cell_type": "code",
   "execution_count": 23,
   "id": "a2fff5ac-d8b5-4688-b1c5-3741fe3ade5a",
   "metadata": {},
   "outputs": [
    {
     "name": "stdout",
     "output_type": "stream",
     "text": [
      "Determinant: 0\n"
     ]
    }
   ],
   "source": [
    "# 2: Determinant of a matrix\n",
    "\n",
    "def determinant(matrix):\n",
    "    n = len(matrix)\n",
    "\n",
    "    if n == 1:\n",
    "        return matrix[0][0]\n",
    "        \n",
    "    if n == 2:\n",
    "        return matrix[0][0] * matrix[1][1] - matrix[0][1] * matrix[1][0]\n",
    "\n",
    "    det = 0\n",
    "    for col in range(n):\n",
    "        submatrix = [row[:col] + row[col+1:] for row in matrix[1:]]\n",
    "        \n",
    "        det += ((-1) ** col) * matrix[0][col] * determinant(submatrix)\n",
    "\n",
    "    return det\n",
    "\n",
    "matrix = [\n",
    "    [1, 2, 3],\n",
    "    [4, 5, 6],\n",
    "    [7, 8, 9]\n",
    "]\n",
    "\n",
    "print(\"Determinant:\", determinant(matrix))\n"
   ]
  },
  {
   "cell_type": "code",
   "execution_count": 25,
   "id": "1512008c-c406-4b3b-9185-afafa44bf940",
   "metadata": {},
   "outputs": [
    {
     "name": "stdout",
     "output_type": "stream",
     "text": [
      "Sum of diagonal elements: 15\n"
     ]
    }
   ],
   "source": [
    "# 3: Sum of a Diagonal elements of a square matrix\n",
    "\n",
    "def diagonal_sum(matrix):\n",
    "    n = len(matrix)\n",
    "    total = sum(matrix[i][i] for i in range(n))  # Sum of main diagonal\n",
    "    return total\n",
    "\n",
    "matrix = [\n",
    "    [1, 2, 3],\n",
    "    [4, 5, 6],\n",
    "    [7, 8, 9]\n",
    "]\n",
    "\n",
    "print(\"Sum of diagonal elements:\", diagonal_sum(matrix))\n"
   ]
  },
  {
   "cell_type": "code",
   "execution_count": 27,
   "id": "beda3ebc-5f4b-489e-97e3-3865a135a879",
   "metadata": {},
   "outputs": [
    {
     "name": "stdout",
     "output_type": "stream",
     "text": [
      "Highest temperature of each city: [33, 31, 29]\n",
      "Day of highest temperature for each city: [5, 4, 5]\n",
      "Average maximum temperature of each city: [31.0, 29.6, 27.0]\n"
     ]
    }
   ],
   "source": [
    "# 4: process temprature data from 20 cities\n",
    "\n",
    "def temperature_analysis(temps):\n",
    "    num_cities = len(temps)\n",
    "    num_days = len(temps[0])\n",
    "\n",
    "    highest_temp = []\n",
    "    highest_day = []\n",
    "    avg_temp = []\n",
    "\n",
    "    for city in range(num_cities):\n",
    "        max_temp = max(temps[city]) \n",
    "        day = temps[city].index(max_temp) + 1  \n",
    "        avg = sum(temps[city]) / num_days  \n",
    "        \n",
    "        highest_temp.append(max_temp)\n",
    "        highest_day.append(day)\n",
    "        avg_temp.append(avg)\n",
    "\n",
    "    return highest_temp, highest_day, avg_temp\n",
    "\n",
    "temps = [\n",
    "    [30, 32, 29, 31, 33],  # City 1\n",
    "    [28, 29, 30, 31, 30],  # City 2\n",
    "    [25, 27, 26, 28, 29],  # City 3\n",
    "    # Add data for 20 cities with 31 days each\n",
    "]\n",
    "\n",
    "high_temps, high_days, avg_temps = temperature_analysis(temps)\n",
    "\n",
    "print(\"Highest temperature of each city:\", high_temps)\n",
    "print(\"Day of highest temperature for each city:\", high_days)\n",
    "print(\"Average maximum temperature of each city:\", avg_temps)\n"
   ]
  },
  {
   "cell_type": "code",
   "execution_count": 29,
   "id": "c4bcb457-8c75-4914-8f87-64e6944c9d0a",
   "metadata": {},
   "outputs": [
    {
     "name": "stdout",
     "output_type": "stream",
     "text": [
      "[1, 0, 1]\n",
      "[0, 0, 0]\n",
      "[1, 0, 1]\n"
     ]
    }
   ],
   "source": [
    "# 5: m x n matrix \n",
    "\n",
    "def set_zeroes(matrix):\n",
    "    m, n = len(matrix), len(matrix[0])\n",
    "    zero_rows = set()\n",
    "    zero_cols = set()\n",
    "    \n",
    "    for i in range(m):\n",
    "        for j in range(n):\n",
    "            if matrix[i][j] == 0:\n",
    "                zero_rows.add(i)\n",
    "                zero_cols.add(j)\n",
    "\n",
    "    for row in zero_rows:\n",
    "        for j in range(n):\n",
    "            matrix[row][j] = 0\n",
    "\n",
    "    for col in zero_cols:\n",
    "        for i in range(m):\n",
    "            matrix[i][col] = 0\n",
    "\n",
    "matrix = [\n",
    "    [1, 1, 1],\n",
    "    [1, 0, 1],\n",
    "    [1, 1, 1]\n",
    "]\n",
    "\n",
    "set_zeroes(matrix)\n",
    "\n",
    "for row in matrix:\n",
    "    print(row)\n",
    "\n"
   ]
  }
 ],
 "metadata": {
  "kernelspec": {
   "display_name": "Python 3 (ipykernel)",
   "language": "python",
   "name": "python3"
  },
  "language_info": {
   "codemirror_mode": {
    "name": "ipython",
    "version": 3
   },
   "file_extension": ".py",
   "mimetype": "text/x-python",
   "name": "python",
   "nbconvert_exporter": "python",
   "pygments_lexer": "ipython3",
   "version": "3.12.4"
  }
 },
 "nbformat": 4,
 "nbformat_minor": 5
}
