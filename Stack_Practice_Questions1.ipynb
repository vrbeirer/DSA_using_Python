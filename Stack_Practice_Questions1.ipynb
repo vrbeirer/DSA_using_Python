{
 "cells": [
  {
   "cell_type": "code",
   "execution_count": 9,
   "id": "bbb0388f-605d-456e-91c4-9b4986196100",
   "metadata": {},
   "outputs": [
    {
     "name": "stdout",
     "output_type": "stream",
     "text": [
      "Original: hello\n",
      "Reversed: olleh\n"
     ]
    }
   ],
   "source": [
    "#1. Reverse a String Using a Stack\n",
    "def reverse_string(s):\n",
    "    stack = []\n",
    "    for char in s:\n",
    "        stack.append(char) \n",
    "    reversed_str = \"\"\n",
    "    while stack:\n",
    "        reversed_str += stack.pop()  \n",
    "    return reversed_str\n",
    "string = \"hello\"\n",
    "print(\"Original:\", string)\n",
    "print(\"Reversed:\", reverse_string(string))\n"
   ]
  },
  {
   "cell_type": "code",
   "execution_count": 10,
   "id": "e9f09262-4a70-40c4-a0d8-ca3f2b2494bb",
   "metadata": {},
   "outputs": [
    {
     "name": "stdout",
     "output_type": "stream",
     "text": [
      "Original Stack: [34, 3, 31, 98, 92, 23]\n",
      "Sorted Stack: [3, 23, 31, 34, 92, 98]\n"
     ]
    }
   ],
   "source": [
    "#2. Stack Sort Algorithm\n",
    "def sort_stack(stack):\n",
    "    temp_stack = []\n",
    "    while stack:\n",
    "        temp = stack.pop()\n",
    "        while temp_stack and temp_stack[-1] > temp:\n",
    "            stack.append(temp_stack.pop())\n",
    "        temp_stack.append(temp)\n",
    "    return temp_stack\n",
    "stack = [34, 3, 31, 98, 92, 23]\n",
    "print(\"Original Stack:\", stack)\n",
    "sorted_stack = sort_stack(stack)\n",
    "print(\"Sorted Stack:\", sorted_stack)\n"
   ]
  },
  {
   "cell_type": "code",
   "execution_count": 11,
   "id": "219c60f8-e960-455d-b257-ac93a5236828",
   "metadata": {},
   "outputs": [
    {
     "name": "stdout",
     "output_type": "stream",
     "text": [
      "1\n",
      "2\n"
     ]
    }
   ],
   "source": [
    "#3. Implement a Stack for Queue Operations\n",
    "class QueueUsingStacks:\n",
    "    def __init__(self):\n",
    "        self.stack1 = []\n",
    "        self.stack2 = []\n",
    "\n",
    "    def enqueue(self, x):\n",
    "        self.stack1.append(x) \n",
    "\n",
    "    def dequeue(self):\n",
    "        if not self.stack2:\n",
    "            while self.stack1:\n",
    "                self.stack2.append(self.stack1.pop())\n",
    "        return self.stack2.pop() if self.stack2 else \"Queue is empty\"\n",
    "q = QueueUsingStacks()\n",
    "q.enqueue(1)\n",
    "q.enqueue(2)\n",
    "q.enqueue(3)\n",
    "print(q.dequeue())  \n",
    "print(q.dequeue())  "
   ]
  },
  {
   "cell_type": "code",
   "execution_count": 12,
   "id": "d64be1ea-8f01-41ba-a30b-e3dcb1102281",
   "metadata": {},
   "outputs": [
    {
     "name": "stdout",
     "output_type": "stream",
     "text": [
      "Type B\n",
      "Type B\n"
     ]
    }
   ],
   "source": [
    "#4. Undo/Redo Operation with Stack\n",
    "class UndoRedo:\n",
    "    def __init__(self):\n",
    "        self.undo_stack = []\n",
    "        self.redo_stack = []\n",
    "\n",
    "    def perform_action(self, action):\n",
    "        self.undo_stack.append(action)\n",
    "        self.redo_stack.clear()\n",
    "\n",
    "    def undo(self):\n",
    "        if self.undo_stack:\n",
    "            action = self.undo_stack.pop()\n",
    "            self.redo_stack.append(action)\n",
    "            return action\n",
    "        return \"Nothing to undo\"\n",
    "\n",
    "    def redo(self):\n",
    "        if self.redo_stack:\n",
    "            action = self.redo_stack.pop()\n",
    "            self.undo_stack.append(action)\n",
    "            return action\n",
    "        return \"Nothing to redo\"\n",
    "editor = UndoRedo()\n",
    "editor.perform_action(\"Type A\")\n",
    "editor.perform_action(\"Type B\")\n",
    "print(editor.undo()) \n",
    "print(editor.redo())  \n"
   ]
  },
  {
   "cell_type": "code",
   "execution_count": 13,
   "id": "bcc2bb3f-683f-48df-80a7-1993cc7f1e9a",
   "metadata": {},
   "outputs": [
    {
     "name": "stdout",
     "output_type": "stream",
     "text": [
      "2\n",
      "3\n"
     ]
    }
   ],
   "source": [
    "#5. Stack That Supports Getting the Middle Element\n",
    "class StackWithMiddle:\n",
    "    def __init__(self):\n",
    "        self.stack = []\n",
    "\n",
    "    def push(self, x):\n",
    "        self.stack.append(x)\n",
    "\n",
    "    def pop(self):\n",
    "        return self.stack.pop() if self.stack else \"Stack is empty\"\n",
    "\n",
    "    def get_middle(self):\n",
    "        if self.stack:\n",
    "            return self.stack[len(self.stack) // 2]\n",
    "        return \"Stack is empty\"\n",
    "stack = StackWithMiddle()\n",
    "stack.push(1)\n",
    "stack.push(2)\n",
    "stack.push(3)\n",
    "print(stack.get_middle())  \n",
    "stack.push(4)\n",
    "print(stack.get_middle()) \n"
   ]
  },
  {
   "cell_type": "code",
   "execution_count": 14,
   "id": "6d22d8c4-8c93-400f-b742-9d9a6093f6bd",
   "metadata": {},
   "outputs": [
    {
     "name": "stdout",
     "output_type": "stream",
     "text": [
      "Original Stack: [1, 2, 3, 1, 2, 4]\n",
      "After Removing Duplicates: [1, 2, 3, 4]\n"
     ]
    }
   ],
   "source": [
    "#6. Remove Duplicates from a Stack\n",
    "def remove_duplicates(stack):\n",
    "    seen = set()\n",
    "    unique_stack = []\n",
    "    for elem in stack:\n",
    "        if elem not in seen:\n",
    "            seen.add(elem)\n",
    "            unique_stack.append(elem)\n",
    "    return unique_stack\n",
    "stack = [1, 2, 3, 1, 2, 4]\n",
    "print(\"Original Stack:\", stack)\n",
    "print(\"After Removing Duplicates:\", remove_duplicates(stack))\n"
   ]
  },
  {
   "cell_type": "code",
   "execution_count": 15,
   "id": "41fad0cc-20f8-4189-b66e-a46ce15998d6",
   "metadata": {},
   "outputs": [
    {
     "name": "stdout",
     "output_type": "stream",
     "text": [
      "Is Palindrome? True\n",
      "Is Palindrome? False\n"
     ]
    }
   ],
   "source": [
    "#8. Check if a Stack is Palindrome\n",
    "def is_palindrome(stack):\n",
    "    return stack == stack[::-1]\n",
    "stack = [1, 2, 3, 2, 1]\n",
    "print(\"Is Palindrome?\", is_palindrome(stack))  \n",
    "stack = [1, 2, 3]\n",
    "print(\"Is Palindrome?\", is_palindrome(stack)) \n"
   ]
  },
  {
   "cell_type": "code",
   "execution_count": 16,
   "id": "9a6625fc-ce33-43e4-a2ea-91a39975c0e9",
   "metadata": {},
   "outputs": [
    {
     "name": "stdout",
     "output_type": "stream",
     "text": [
      "Next Greater Elements: [5, 10, 10, -1]\n"
     ]
    }
   ],
   "source": [
    "#9. Next Greater Element Using Stack\n",
    "def next_greater_element(nums):\n",
    "    stack = []\n",
    "    result = [-1] * len(nums)\n",
    "    for i in range(len(nums) - 1, -1, -1):\n",
    "        while stack and stack[-1] <= nums[i]:\n",
    "            stack.pop()\n",
    "        if stack:\n",
    "            result[i] = stack[-1]\n",
    "        stack.append(nums[i])\n",
    "    return result\n",
    "nums = [4, 5, 2, 10]\n",
    "print(\"Next Greater Elements:\", next_greater_element(nums))\n"
   ]
  },
  {
   "cell_type": "code",
   "execution_count": 17,
   "id": "aed8dd99-222d-412a-80f3-7d568c165894",
   "metadata": {},
   "outputs": [
    {
     "name": "stdout",
     "output_type": "stream",
     "text": [
      "Original Queue: [1, 2, 3, 4]\n",
      "Reversed Queue: [4, 3, 2, 1]\n"
     ]
    }
   ],
   "source": [
    "#10. Reverse a Queue Using a Stack\n",
    "from collections import deque\n",
    "\n",
    "def reverse_queue(queue):\n",
    "    stack = []\n",
    "    while queue:\n",
    "        stack.append(queue.popleft())\n",
    "    while stack:\n",
    "        queue.append(stack.pop())\n",
    "    return queue\n",
    "\n",
    "queue = deque([1, 2, 3, 4])\n",
    "print(\"Original Queue:\", list(queue))\n",
    "reversed_queue = reverse_queue(queue)\n",
    "print(\"Reversed Queue:\", list(reversed_queue))\n"
   ]
  },
  {
   "cell_type": "code",
   "execution_count": 18,
   "id": "d08d1e74-ed34-46cd-83af-24e5e342e198",
   "metadata": {},
   "outputs": [
    {
     "name": "stdout",
     "output_type": "stream",
     "text": [
      "Original Stack: [1, 5, 3, 8, 6]\n",
      "Modified Stack: [5, 8, 6]\n"
     ]
    }
   ],
   "source": [
    "#11. Remove All Elements Less Than X\n",
    "def remove_less_than_x(stack, x):\n",
    "    return [elem for elem in stack if elem >= x]\n",
    "stack = [1, 5, 3, 8, 6]\n",
    "print(\"Original Stack:\", stack)\n",
    "modified_stack = remove_less_than_x(stack, 5)\n",
    "print(\"Modified Stack:\", modified_stack)\n"
   ]
  },
  {
   "cell_type": "code",
   "execution_count": null,
   "id": "b64e4c79-612e-48de-af8a-b05ec6f23ee4",
   "metadata": {},
   "outputs": [],
   "source": []
  }
 ],
 "metadata": {
  "kernelspec": {
   "display_name": "Python 3 (ipykernel)",
   "language": "python",
   "name": "python3"
  },
  "language_info": {
   "codemirror_mode": {
    "name": "ipython",
    "version": 3
   },
   "file_extension": ".py",
   "mimetype": "text/x-python",
   "name": "python",
   "nbconvert_exporter": "python",
   "pygments_lexer": "ipython3",
   "version": "3.12.4"
  }
 },
 "nbformat": 4,
 "nbformat_minor": 5
}
